{
 "cells": [
  {
   "cell_type": "code",
   "execution_count": 1,
   "metadata": {},
   "outputs": [],
   "source": [
    "import numpy as np\n",
    "import pandas as pd\n",
    "import matplotlib.pyplot as plt\n",
    "%matplotlib inline\n",
    "import seaborn as sns\n",
    "from scipy import stats"
   ]
  },
  {
   "cell_type": "code",
   "execution_count": 31,
   "metadata": {
    "scrolled": true
   },
   "outputs": [
    {
     "name": "stdout",
     "output_type": "stream",
     "text": [
      "Tcs\n",
      "Time duration of prediction \n"
     ]
    },
    {
     "data": {
      "text/html": [
       "<div>\n",
       "<style scoped>\n",
       "    .dataframe tbody tr th:only-of-type {\n",
       "        vertical-align: middle;\n",
       "    }\n",
       "\n",
       "    .dataframe tbody tr th {\n",
       "        vertical-align: top;\n",
       "    }\n",
       "\n",
       "    .dataframe thead th {\n",
       "        text-align: right;\n",
       "    }\n",
       "</style>\n",
       "<table border=\"1\" class=\"dataframe\">\n",
       "  <thead>\n",
       "    <tr style=\"text-align: right;\">\n",
       "      <th></th>\n",
       "      <th>timestamp</th>\n",
       "      <th>open</th>\n",
       "      <th>high</th>\n",
       "      <th>low</th>\n",
       "      <th>close</th>\n",
       "      <th>volume</th>\n",
       "      <th>Date</th>\n",
       "      <th>Time</th>\n",
       "    </tr>\n",
       "  </thead>\n",
       "  <tbody>\n",
       "    <tr>\n",
       "      <th>0</th>\n",
       "      <td>2017-01-02 09:15:00+05:30</td>\n",
       "      <td>1183.50</td>\n",
       "      <td>1185.50</td>\n",
       "      <td>1180.25</td>\n",
       "      <td>1183.50</td>\n",
       "      <td>8970.0</td>\n",
       "      <td>2017-01-02</td>\n",
       "      <td>09</td>\n",
       "    </tr>\n",
       "    <tr>\n",
       "      <th>1</th>\n",
       "      <td>2017-01-02 09:16:00+05:30</td>\n",
       "      <td>1183.50</td>\n",
       "      <td>1184.50</td>\n",
       "      <td>1180.85</td>\n",
       "      <td>1182.48</td>\n",
       "      <td>5538.0</td>\n",
       "      <td>2017-01-02</td>\n",
       "      <td>09</td>\n",
       "    </tr>\n",
       "    <tr>\n",
       "      <th>2</th>\n",
       "      <td>2017-01-02 09:17:00+05:30</td>\n",
       "      <td>1182.50</td>\n",
       "      <td>1182.50</td>\n",
       "      <td>1181.43</td>\n",
       "      <td>1181.68</td>\n",
       "      <td>1366.0</td>\n",
       "      <td>2017-01-02</td>\n",
       "      <td>09</td>\n",
       "    </tr>\n",
       "    <tr>\n",
       "      <th>3</th>\n",
       "      <td>2017-01-02 09:18:00+05:30</td>\n",
       "      <td>1181.68</td>\n",
       "      <td>1185.80</td>\n",
       "      <td>1181.48</td>\n",
       "      <td>1185.80</td>\n",
       "      <td>1640.0</td>\n",
       "      <td>2017-01-02</td>\n",
       "      <td>09</td>\n",
       "    </tr>\n",
       "    <tr>\n",
       "      <th>4</th>\n",
       "      <td>2017-01-02 09:19:00+05:30</td>\n",
       "      <td>1185.80</td>\n",
       "      <td>1185.80</td>\n",
       "      <td>1182.00</td>\n",
       "      <td>1183.25</td>\n",
       "      <td>3486.0</td>\n",
       "      <td>2017-01-02</td>\n",
       "      <td>09</td>\n",
       "    </tr>\n",
       "    <tr>\n",
       "      <th>...</th>\n",
       "      <td>...</td>\n",
       "      <td>...</td>\n",
       "      <td>...</td>\n",
       "      <td>...</td>\n",
       "      <td>...</td>\n",
       "      <td>...</td>\n",
       "      <td>...</td>\n",
       "      <td>...</td>\n",
       "    </tr>\n",
       "    <tr>\n",
       "      <th>310481</th>\n",
       "      <td>2020-05-15 15:25:00+05:30</td>\n",
       "      <td>1901.00</td>\n",
       "      <td>1905.00</td>\n",
       "      <td>1899.50</td>\n",
       "      <td>1904.70</td>\n",
       "      <td>11327.0</td>\n",
       "      <td>2020-05-15</td>\n",
       "      <td>15</td>\n",
       "    </tr>\n",
       "    <tr>\n",
       "      <th>310482</th>\n",
       "      <td>2020-05-15 15:26:00+05:30</td>\n",
       "      <td>1904.70</td>\n",
       "      <td>1904.85</td>\n",
       "      <td>1902.50</td>\n",
       "      <td>1904.00</td>\n",
       "      <td>13608.0</td>\n",
       "      <td>2020-05-15</td>\n",
       "      <td>15</td>\n",
       "    </tr>\n",
       "    <tr>\n",
       "      <th>310483</th>\n",
       "      <td>2020-05-15 15:27:00+05:30</td>\n",
       "      <td>1904.00</td>\n",
       "      <td>1904.30</td>\n",
       "      <td>1902.55</td>\n",
       "      <td>1903.15</td>\n",
       "      <td>17151.0</td>\n",
       "      <td>2020-05-15</td>\n",
       "      <td>15</td>\n",
       "    </tr>\n",
       "    <tr>\n",
       "      <th>310484</th>\n",
       "      <td>2020-05-15 15:28:00+05:30</td>\n",
       "      <td>1903.15</td>\n",
       "      <td>1908.95</td>\n",
       "      <td>1902.20</td>\n",
       "      <td>1903.25</td>\n",
       "      <td>15520.0</td>\n",
       "      <td>2020-05-15</td>\n",
       "      <td>15</td>\n",
       "    </tr>\n",
       "    <tr>\n",
       "      <th>310485</th>\n",
       "      <td>2020-05-15 15:29:00+05:30</td>\n",
       "      <td>1903.25</td>\n",
       "      <td>1906.25</td>\n",
       "      <td>1900.05</td>\n",
       "      <td>1903.00</td>\n",
       "      <td>5931.0</td>\n",
       "      <td>2020-05-15</td>\n",
       "      <td>15</td>\n",
       "    </tr>\n",
       "  </tbody>\n",
       "</table>\n",
       "<p>310348 rows × 8 columns</p>\n",
       "</div>"
      ],
      "text/plain": [
       "                        timestamp     open     high      low    close  \\\n",
       "0       2017-01-02 09:15:00+05:30  1183.50  1185.50  1180.25  1183.50   \n",
       "1       2017-01-02 09:16:00+05:30  1183.50  1184.50  1180.85  1182.48   \n",
       "2       2017-01-02 09:17:00+05:30  1182.50  1182.50  1181.43  1181.68   \n",
       "3       2017-01-02 09:18:00+05:30  1181.68  1185.80  1181.48  1185.80   \n",
       "4       2017-01-02 09:19:00+05:30  1185.80  1185.80  1182.00  1183.25   \n",
       "...                           ...      ...      ...      ...      ...   \n",
       "310481  2020-05-15 15:25:00+05:30  1901.00  1905.00  1899.50  1904.70   \n",
       "310482  2020-05-15 15:26:00+05:30  1904.70  1904.85  1902.50  1904.00   \n",
       "310483  2020-05-15 15:27:00+05:30  1904.00  1904.30  1902.55  1903.15   \n",
       "310484  2020-05-15 15:28:00+05:30  1903.15  1908.95  1902.20  1903.25   \n",
       "310485  2020-05-15 15:29:00+05:30  1903.25  1906.25  1900.05  1903.00   \n",
       "\n",
       "         volume       Date Time  \n",
       "0        8970.0 2017-01-02   09  \n",
       "1        5538.0 2017-01-02   09  \n",
       "2        1366.0 2017-01-02   09  \n",
       "3        1640.0 2017-01-02   09  \n",
       "4        3486.0 2017-01-02   09  \n",
       "...         ...        ...  ...  \n",
       "310481  11327.0 2020-05-15   15  \n",
       "310482  13608.0 2020-05-15   15  \n",
       "310483  17151.0 2020-05-15   15  \n",
       "310484  15520.0 2020-05-15   15  \n",
       "310485   5931.0 2020-05-15   15  \n",
       "\n",
       "[310348 rows x 8 columns]"
      ]
     },
     "execution_count": 31,
     "metadata": {},
     "output_type": "execute_result"
    }
   ],
   "source": [
    "import os\n",
    "datasets=os.listdir(\"C:\\\\Users\\\\kavin\\\\OneDrive\\\\Desktop\\\\datatata\")\n",
    "data=[]\n",
    "c=input()\n",
    "c=c.upper()\n",
    "c=list(c)\n",
    "for i in range(len(c)):\n",
    "    if c[i]==' ':\n",
    "        c[i]='_'\n",
    "c=''.join(c)\n",
    "d=c+\"__EQ__INDICES__NSE__MINUTE.csv\"\n",
    "c=c+\"__EQ__NSE__NSE__MINUTE.csv\"\n",
    "found=0\n",
    "for i in datasets:\n",
    "    if i==c:\n",
    "        found=1\n",
    "        break\n",
    "    elif i==d:\n",
    "        found=1\n",
    "        c=d\n",
    "        break\n",
    "        \n",
    "if found:\n",
    "    path=\"C:\\\\Users\\\\kavin\\\\OneDrive\\\\Desktop\\\\datatata\\\\\"+c\n",
    "    dataset=pd.read_csv(path)\n",
    "    dataset['timestamp']=dataset['timestamp'].astype('string')\n",
    "    dataset[['Date','Time']] = dataset.timestamp.str.split(\" \",expand=True,)\n",
    "    if len(dataset)<200:\n",
    "        print(\"Insufficient Data\")\n",
    "    else:\n",
    "        dataset=dataset.dropna(how=\"any\",subset=['open','high','volume','close'])\n",
    "        dataset=dataset.drop_duplicates(keep='last')\n",
    "        dataset['Date']=pd.to_datetime(dataset['Date'])\n",
    "        dataset['Time']=dataset['Time'].apply(lambda i:i[:2])\n",
    "        duration=input(\"Time duration of prediction \")\n",
    "        if duration=='Hours':\n",
    "            reqopen=dataset.groupby(['Date','Time'])['open'].apply(list).apply(lambda x:x[0])\n",
    "            reqclose=dataset.groupby(['Date','Time'])['close'].apply(list).apply(lambda x: x[-1])\n",
    "            reqhigh=dataset.groupby(['Date','Time'])['high'].max()\n",
    "            reqlow=dataset.groupby(['Date','Time'])['low'].min()\n",
    "            hropen=[]\n",
    "            hrclose=[]\n",
    "            hrhigh=[]\n",
    "            hrlow=[]\n",
    "            for k in range(len(reqopen)):\n",
    "                hropen.append(reqopen[k])\n",
    "                hrclose.append(reqclose[k])\n",
    "                hrhigh.append(reqhigh[k])\n",
    "                hrlow.append(reqlow[k])\n",
    "            hrdata={'open':hropen,'close':hrclose,'high':hrhigh,'low':hrlow}\n",
    "            HrData=pd.DataFrame(hrdata)\n",
    "            dataset=HrData\n",
    "dataset\n",
    "        "
   ]
  },
  {
   "cell_type": "code",
   "execution_count": null,
   "metadata": {},
   "outputs": [],
   "source": []
  },
  {
   "cell_type": "code",
   "execution_count": 35,
   "metadata": {},
   "outputs": [],
   "source": [
    "#Independent Variable and Dependent Variable \n",
    "x1 = dataset.iloc[:,2:5].values \n",
    "y1 = dataset.iloc[:, 1].values"
   ]
  },
  {
   "cell_type": "code",
   "execution_count": 36,
   "metadata": {},
   "outputs": [],
   "source": [
    "# Splitting the dataset into the Training set and Test set \n",
    "from sklearn.model_selection import train_test_split \n",
    "x_train, x_test, y_train, y_test = train_test_split(x1, y1, test_size = 0.2, random_state = 0)\n"
   ]
  },
  {
   "cell_type": "code",
   "execution_count": 37,
   "metadata": {},
   "outputs": [
    {
     "data": {
      "text/plain": [
       "LinearRegression(copy_X=True, fit_intercept=True, n_jobs=None, normalize=False)"
      ]
     },
     "execution_count": 37,
     "metadata": {},
     "output_type": "execute_result"
    }
   ],
   "source": [
    "# # Fitting Multiple Linear Regression to the Training set on open\n",
    "from sklearn.linear_model import LinearRegression \n",
    "regressor = LinearRegression() \n",
    "regressor.fit(x_train, y_train)"
   ]
  },
  {
   "cell_type": "code",
   "execution_count": 38,
   "metadata": {},
   "outputs": [],
   "source": [
    "# Predicting the Test set results \n",
    "y_pred = regressor.predict(x_test)"
   ]
  },
  {
   "cell_type": "code",
   "execution_count": 39,
   "metadata": {},
   "outputs": [
    {
     "data": {
      "text/plain": [
       "62070"
      ]
     },
     "execution_count": 39,
     "metadata": {},
     "output_type": "execute_result"
    }
   ],
   "source": [
    "k=list(y_test-y_pred)\n",
    "len(k)"
   ]
  },
  {
   "cell_type": "code",
   "execution_count": 40,
   "metadata": {},
   "outputs": [],
   "source": [
    "# accuracy metrics \n",
    "from sklearn.metrics import mean_squared_error,r2_score \n",
    "rmse = (np.sqrt(mean_squared_error(y_test, y_pred))) \n",
    "r2score = r2_score(y_test, y_pred)"
   ]
  },
  {
   "cell_type": "code",
   "execution_count": 41,
   "metadata": {},
   "outputs": [
    {
     "name": "stdout",
     "output_type": "stream",
     "text": [
      "0.6973515502110034\n",
      "0.9999966708478182\n"
     ]
    }
   ],
   "source": [
    "print(rmse) \n",
    "print(r2score)"
   ]
  },
  {
   "cell_type": "code",
   "execution_count": null,
   "metadata": {},
   "outputs": [],
   "source": []
  },
  {
   "cell_type": "code",
   "execution_count": 18,
   "metadata": {},
   "outputs": [
    {
     "data": {
      "text/html": [
       "<div>\n",
       "<style scoped>\n",
       "    .dataframe tbody tr th:only-of-type {\n",
       "        vertical-align: middle;\n",
       "    }\n",
       "\n",
       "    .dataframe tbody tr th {\n",
       "        vertical-align: top;\n",
       "    }\n",
       "\n",
       "    .dataframe thead th {\n",
       "        text-align: right;\n",
       "    }\n",
       "</style>\n",
       "<table border=\"1\" class=\"dataframe\">\n",
       "  <thead>\n",
       "    <tr style=\"text-align: right;\">\n",
       "      <th></th>\n",
       "      <th>open</th>\n",
       "      <th>high</th>\n",
       "      <th>low</th>\n",
       "      <th>close</th>\n",
       "      <th>volume</th>\n",
       "    </tr>\n",
       "  </thead>\n",
       "  <tbody>\n",
       "    <tr>\n",
       "      <th>open</th>\n",
       "      <td>1.000000</td>\n",
       "      <td>0.999997</td>\n",
       "      <td>0.999996</td>\n",
       "      <td>0.999994</td>\n",
       "      <td>0.051197</td>\n",
       "    </tr>\n",
       "    <tr>\n",
       "      <th>high</th>\n",
       "      <td>0.999997</td>\n",
       "      <td>1.000000</td>\n",
       "      <td>0.999994</td>\n",
       "      <td>0.999997</td>\n",
       "      <td>0.052126</td>\n",
       "    </tr>\n",
       "    <tr>\n",
       "      <th>low</th>\n",
       "      <td>0.999996</td>\n",
       "      <td>0.999994</td>\n",
       "      <td>1.000000</td>\n",
       "      <td>0.999997</td>\n",
       "      <td>0.050313</td>\n",
       "    </tr>\n",
       "    <tr>\n",
       "      <th>close</th>\n",
       "      <td>0.999994</td>\n",
       "      <td>0.999997</td>\n",
       "      <td>0.999997</td>\n",
       "      <td>1.000000</td>\n",
       "      <td>0.051258</td>\n",
       "    </tr>\n",
       "    <tr>\n",
       "      <th>volume</th>\n",
       "      <td>0.051197</td>\n",
       "      <td>0.052126</td>\n",
       "      <td>0.050313</td>\n",
       "      <td>0.051258</td>\n",
       "      <td>1.000000</td>\n",
       "    </tr>\n",
       "  </tbody>\n",
       "</table>\n",
       "</div>"
      ],
      "text/plain": [
       "            open      high       low     close    volume\n",
       "open    1.000000  0.999997  0.999996  0.999994  0.051197\n",
       "high    0.999997  1.000000  0.999994  0.999997  0.052126\n",
       "low     0.999996  0.999994  1.000000  0.999997  0.050313\n",
       "close   0.999994  0.999997  0.999997  1.000000  0.051258\n",
       "volume  0.051197  0.052126  0.050313  0.051258  1.000000"
      ]
     },
     "execution_count": 18,
     "metadata": {},
     "output_type": "execute_result"
    }
   ],
   "source": [
    "dataset.corr()"
   ]
  },
  {
   "cell_type": "code",
   "execution_count": 26,
   "metadata": {},
   "outputs": [
    {
     "data": {
      "image/png": "[encoded data removed]",
      "text/plain": [
       "<Figure size 864x576 with 2 Axes>"
      ]
     },
     "metadata": {
      "needs_background": "light"
     },
     "output_type": "display_data"
    }
   ],
   "source": [
    "plt.figure(figsize=(12, 8))\n",
    "k=dataset.corr()\n",
    "sns.heatmap(k,annot=True)\n",
    "plt.show()"
   ]
  },
  {
   "cell_type": "code",
   "execution_count": null,
   "metadata": {},
   "outputs": [],
   "source": []
  },
  {
   "cell_type": "code",
   "execution_count": null,
   "metadata": {},
   "outputs": [],
   "source": []
  },
  {
   "cell_type": "code",
   "execution_count": null,
   "metadata": {},
   "outputs": [],
   "source": []
  },
  {
   "cell_type": "code",
   "execution_count": null,
   "metadata": {},
   "outputs": [],
   "source": []
  },
  {
   "cell_type": "code",
   "execution_count": null,
   "metadata": {},
   "outputs": [],
   "source": []
  },
  {
   "cell_type": "code",
   "execution_count": null,
   "metadata": {},
   "outputs": [],
   "source": []
  },
  {
   "cell_type": "code",
   "execution_count": null,
   "metadata": {},
   "outputs": [],
   "source": []
  },
  {
   "cell_type": "markdown",
   "metadata": {},
   "source": [
    "# for close prediction"
   ]
  },
  {
   "cell_type": "code",
   "execution_count": null,
   "metadata": {},
   "outputs": [],
   "source": []
  },
  {
   "cell_type": "code",
   "execution_count": 11,
   "metadata": {},
   "outputs": [],
   "source": [
    "# Independent Variable and Dependent Variable \n",
    "x2 = dataset.iloc[:,1:4].values \n",
    "y2= dataset.iloc[:, 4].values"
   ]
  },
  {
   "cell_type": "code",
   "execution_count": 12,
   "metadata": {},
   "outputs": [],
   "source": [
    "# Splitting the dataset into the Training set and Test set \n",
    "x_train, x_test, y_train, y_test = train_test_split(x2, y2, test_size = 0.2, random_state = 0)"
   ]
  },
  {
   "cell_type": "code",
   "execution_count": 13,
   "metadata": {},
   "outputs": [
    {
     "data": {
      "text/plain": [
       "LinearRegression()"
      ]
     },
     "execution_count": 13,
     "metadata": {},
     "output_type": "execute_result"
    }
   ],
   "source": [
    "# # Fitting Multiple Linear Regression to the Training set on close\n",
    "from sklearn.linear_model import LinearRegression \n",
    "regressor = LinearRegression() \n",
    "regressor.fit(x_train, y_train)"
   ]
  },
  {
   "cell_type": "code",
   "execution_count": 14,
   "metadata": {},
   "outputs": [],
   "source": [
    "# Predicting the Test set results \n",
    "y_pred = regressor.predict(x_test)"
   ]
  },
  {
   "cell_type": "code",
   "execution_count": 15,
   "metadata": {},
   "outputs": [
    {
     "data": {
      "text/plain": [
       "array([-0.63493989,  0.12484297, -2.61850917, ..., -0.04392805,\n",
       "        0.28255477,  0.4020428 ])"
      ]
     },
     "execution_count": 15,
     "metadata": {},
     "output_type": "execute_result"
    }
   ],
   "source": [
    "y_test-y_pred"
   ]
  },
  {
   "cell_type": "code",
   "execution_count": 16,
   "metadata": {},
   "outputs": [],
   "source": [
    "# accuracy metrics \n",
    "from sklearn.metrics import mean_squared_error,r2_score \n",
    "rmse = (np.sqrt(mean_squared_error(y_test, y_pred))) \n",
    "r2score = r2_score(y_test, y_pred)"
   ]
  },
  {
   "cell_type": "code",
   "execution_count": 17,
   "metadata": {},
   "outputs": [
    {
     "name": "stdout",
     "output_type": "stream",
     "text": [
      "0.39194564766325785\n",
      "0.9999980282160107\n"
     ]
    }
   ],
   "source": [
    "print(rmse) \n",
    "print(r2score)"
   ]
  },
  {
   "cell_type": "code",
   "execution_count": null,
   "metadata": {},
   "outputs": [],
   "source": []
  },
  {
   "cell_type": "code",
   "execution_count": null,
   "metadata": {},
   "outputs": [],
   "source": []
  },
  {
   "cell_type": "markdown",
   "metadata": {},
   "source": [
    "# Tkinter GUI"
   ]
  },
  {
   "cell_type": "code",
   "execution_count": null,
   "metadata": {},
   "outputs": [],
   "source": []
  },
  {
   "cell_type": "code",
   "execution_count": 42,
   "metadata": {},
   "outputs": [],
   "source": [
    "import tkinter as tk \n",
    "from tkinter import ttk \n",
    "import pickle \n",
    "import joblib \n",
    "import numpy as np \n",
    "import seaborn as sns \n",
    "from sklearn.utils import shuffle \n",
    "from sklearn.linear_model import LogisticRegression"
   ]
  },
  {
   "cell_type": "code",
   "execution_count": 43,
   "metadata": {},
   "outputs": [],
   "source": [
    "# Creating a Window\n",
    "window=tk.Tk() \n",
    "tk.mainloop()"
   ]
  },
  {
   "cell_type": "code",
   "execution_count": 45,
   "metadata": {},
   "outputs": [],
   "source": [
    "# Creating Label widget in window\n",
    "window=tk.Tk() \n",
    "label1=tk.Label(window,text=\"Hello\") \n",
    "label1.pack() \n",
    "tk.mainloop()"
   ]
  },
  {
   "cell_type": "code",
   "execution_count": 48,
   "metadata": {},
   "outputs": [
    {
     "name": "stdout",
     "output_type": "stream",
     "text": [
      "\n"
     ]
    }
   ],
   "source": [
    "# Creating Entry widget in window\n",
    "window=tk.Tk() \n",
    "x1=tk.StringVar() \n",
    "tk.Entry(window,textvariable=x1).pack() \n",
    "tk.mainloop() \n",
    "print(x1.get())\n"
   ]
  },
  {
   "cell_type": "code",
   "execution_count": null,
   "metadata": {},
   "outputs": [],
   "source": [
    "# Creating Button widget in window\n",
    "window=tk.Tk() \n",
    "tk.Button(window,text=\"click\",command= lambda : print(\"Clicked\")).pack() \n",
    "tk.mainloop()"
   ]
  },
  {
   "cell_type": "code",
   "execution_count": null,
   "metadata": {},
   "outputs": [],
   "source": [
    "# Importing Dataset and printing head \n",
    "iris=sns.load_dataset(\"iris\") \n",
    "iris.head()\n"
   ]
  },
  {
   "cell_type": "code",
   "execution_count": null,
   "metadata": {},
   "outputs": [],
   "source": [
    "# unique species \n",
    "iris.species.unique()\n"
   ]
  },
  {
   "cell_type": "code",
   "execution_count": null,
   "metadata": {},
   "outputs": [],
   "source": [
    "# replacing the name of species with number \n",
    "num=[] \n",
    "for i in iris.species:    \n",
    "    if i == \"setosa\":        \n",
    "        num.append(0)    \n",
    "    elif i=='versicolor':        \n",
    "        num.append(1)    \n",
    "    elif i=='virginica':        \n",
    "        num.append(2)    \n",
    "    else:        \n",
    "        pass \n",
    "iris['species_num']=num \n",
    "iris.head()"
   ]
  },
  {
   "cell_type": "code",
   "execution_count": null,
   "metadata": {},
   "outputs": [],
   "source": [
    "iris.species_num.unique()"
   ]
  },
  {
   "cell_type": "code",
   "execution_count": null,
   "metadata": {},
   "outputs": [],
   "source": [
    "iris.info()"
   ]
  },
  {
   "cell_type": "code",
   "execution_count": null,
   "metadata": {},
   "outputs": [],
   "source": [
    "# dropping the species name column \n",
    "iris.drop('species',axis=1,inplace=True) \n",
    "iris.head()"
   ]
  },
  {
   "cell_type": "code",
   "execution_count": null,
   "metadata": {},
   "outputs": [],
   "source": [
    "# shuffling data \n",
    "iris=shuffle(iris) \n",
    "iris.reset_index(drop=True) \n",
    "iris.head()"
   ]
  },
  {
   "cell_type": "code",
   "execution_count": null,
   "metadata": {},
   "outputs": [],
   "source": [
    "# Splitting into train and test \n",
    "train=np.array(iris[:120]) \n",
    "test=np.array(iris[120:]) \n",
    "print(train.shape,test.shape)"
   ]
  },
  {
   "cell_type": "code",
   "execution_count": null,
   "metadata": {},
   "outputs": [],
   "source": [
    "# splitting training and testing in x_train, y_train, x_test and y_test \n",
    "x_train,y_train=train[:,:-1],train[:,-1] \n",
    "x_test,y_test=test[:,:-1],test[:,-1] \n",
    "print(x_train.shape,y_train.shape,x_test.shape,y_test.shape)"
   ]
  },
  {
   "cell_type": "code",
   "execution_count": null,
   "metadata": {},
   "outputs": [],
   "source": [
    "# training model \n",
    "lr=LogisticRegression() \n",
    "lr.fit(X=x_train,y=y_train)"
   ]
  },
  {
   "cell_type": "code",
   "execution_count": null,
   "metadata": {},
   "outputs": [],
   "source": [
    "lr.score(x_test,y_test)"
   ]
  },
  {
   "cell_type": "code",
   "execution_count": null,
   "metadata": {},
   "outputs": [],
   "source": [
    "# Storing using pickle method\n",
    "Pkl_Filename = \"Pickle_Model.pkl\" \n",
    "with open(Pkl_Filename, 'wb') as file:      \n",
    "    pickle.dump(lr, file)"
   ]
  },
  {
   "cell_type": "code",
   "execution_count": null,
   "metadata": {},
   "outputs": [],
   "source": [
    "with open(Pkl_Filename, 'rb') as file:      \n",
    "    Pickled_LR_Model = pickle.load(file) \n",
    "Pickled_LR_Model"
   ]
  },
  {
   "cell_type": "code",
   "execution_count": null,
   "metadata": {},
   "outputs": [],
   "source": [
    "Pickled_LR_Model.score(x_test,y_test)"
   ]
  },
  {
   "cell_type": "code",
   "execution_count": null,
   "metadata": {},
   "outputs": [],
   "source": [
    "# Storing using Joblib method\n",
    "joblib_file = \"joblib_Model.pkl\"  \n",
    "joblib.dump(lr, joblib_file)"
   ]
  },
  {
   "cell_type": "code",
   "execution_count": null,
   "metadata": {},
   "outputs": [],
   "source": [
    "joblib_LR_model = joblib.load(joblib_file) \n",
    "joblib_LR_model"
   ]
  },
  {
   "cell_type": "code",
   "execution_count": null,
   "metadata": {},
   "outputs": [],
   "source": [
    "joblib_LR_model.score(x_test,y_test)"
   ]
  },
  {
   "cell_type": "code",
   "execution_count": null,
   "metadata": {},
   "outputs": [],
   "source": []
  },
  {
   "cell_type": "code",
   "execution_count": null,
   "metadata": {},
   "outputs": [],
   "source": [
    "path_of_file=\"\" \n",
    "path_of_variables=\"\" \n",
    "parameters1=[\"sepal_length\",\"sepal_width\",\"petal_length\",\"petal_width\"] \n",
    "created_model=1 \n",
    "type_of_file1=\"\" \n",
    "parameter1_values=[]\n",
    "def find_label(a):    \n",
    "    if a==0:        \n",
    "        return \"setosa\"    \n",
    "    elif a==1:        \n",
    "        return 'versicolor'    \n",
    "    elif a==2:        \n",
    "        return 'virginica'\n",
    "\n",
    "def set_path_of_file():    \n",
    "    global path_of_file    \n",
    "    path_of_file=x1.get()    \n",
    "    print(x1.get())\n",
    "\n",
    "def set_parameter1_values():    \n",
    "    global parameters1,parameter1_values    \n",
    "    parameter1_values=list(map(float,x4.get().split(\",\")))\n",
    "\n",
    "def set_file():    \n",
    "    global type_of_file1    \n",
    "    type_of_file1=x3.get()    \n",
    "    load_model()\n",
    "    \n",
    "def load_model():    \n",
    "    global created_model,path_of_file,type_of_file1    \n",
    "    if type_of_file1==\"Pickle\":        \n",
    "        with open(path_of_file, 'rb') as fil:              \n",
    "            model = pickle.load(fil)    \n",
    "    elif type_of_file1==\"Joblib\":        \n",
    "        created_model=joblib.load(path_of_file)\n",
    "\n",
    "def predict_output():    \n",
    "    global created_model,parameter1_values    \n",
    "    output=list(map(find_label,created_model.predict([parameter1_values])))    \n",
    "    window=tk.Tk()    \n",
    "    window.geometry('200x200')    \n",
    "    label=tk.Label(window,text=\"The output is: \"+str(output),font=(\"Bold\",10))    \n",
    "    label.pack()    \n",
    "    label.config(wraplength=150)    \n",
    "    tk.mainloop()    \n",
    "    \n",
    "window=tk.Tk() \n",
    "window.title(\"Predictor\") \n",
    "x1=tk.StringVar() \n",
    "x2=tk.StringVar() \n",
    "x3=tk.StringVar() \n",
    "x4=tk.StringVar() \n",
    "tag=tk.StringVar() \n",
    "tag.set(\"  \".join(parameters1))\n",
    "\n",
    "ttk.Label(window,text=\"Enter the path of file (.pkl)\").grid(row=0,column=0) \n",
    "ttk.Entry(window,textvariable=x1).grid(row=0,column=1) \n",
    "ttk.Button(window,text=\"Submit\",command=lambda:set_path_of_file()).grid(row=0,column=2)\n",
    "\n",
    "ttk.Label(window,text=\"Enter the type of method\").grid(row=1,column=0) \n",
    "ttk.OptionMenu(window,x3,\"Select\",\"Pickle\",\"Joblib\").grid(row=1,column=1) \n",
    "ttk.Button(window,text=\"submit\",command=lambda : set_file()).grid(row=1,column=2)\n",
    "\n",
    "ttk.Label(window,text=\"Enter the values of parameters shown below in the same order, separated by ','\" \n",
    "ttk.Label(window,text=tag.get()).grid(row=3,column=0,columnspan=3) \n",
    "ttk.Entry(window,textvariable=x4).grid(row=4,column=0,columnspan=3) \n",
    "ttk.Button(window,text=\"Submit\",command=lambda:set_parameter1_values()).grid(row=5,column=0,columnsp\n",
    "ttk.Button(window,text=\"Predict Output\",command=lambda : predict_output()).grid(row=6,column=0,colum\n",
    "tk.mainloop()"
   ]
  },
  {
   "cell_type": "code",
   "execution_count": null,
   "metadata": {},
   "outputs": [],
   "source": []
  },
  {
   "cell_type": "code",
   "execution_count": null,
   "metadata": {},
   "outputs": [],
   "source": []
  },
  {
   "cell_type": "code",
   "execution_count": null,
   "metadata": {},
   "outputs": [],
   "source": []
  }
 ],
 "metadata": {
  "kernelspec": {
   "display_name": "Python 3",
   "language": "python",
   "name": "python3"
  },
  "language_info": {
   "codemirror_mode": {
    "name": "ipython",
    "version": 3
   },
   "file_extension": ".py",
   "mimetype": "text/x-python",
   "name": "python",
   "nbconvert_exporter": "python",
   "pygments_lexer": "ipython3",
   "version": "3.9.5"
  }
 },
 "nbformat": 4,
 "nbformat_minor": 4
}
