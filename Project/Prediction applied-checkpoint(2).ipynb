{
 "cells": [
  {
   "cell_type": "code",
   "execution_count": 1,
   "metadata": {},
   "outputs": [],
   "source": [
    "import numpy as np\n",
    "import pandas as pd\n",
    "import matplotlib.pyplot as plt\n",
    "%matplotlib inline\n",
    "import seaborn as sns\n",
    "from scipy import stats\n",
    "import os\n",
    "from sklearn.metrics import mean_squared_error,r2_score \n",
    "import pandastable\n",
    "from tkinter import *\n",
    "from pandastable import Table, TableModel\n",
    "import tkinter as tk \n",
    "from tkinter import ttk \n",
    "# import pickle \n",
    "# import joblib  \n",
    "from sklearn.utils import shuffle \n",
    "from sklearn.linear_model import LogisticRegression\n",
    "from sklearn.model_selection import train_test_split\n",
    "from sklearn.linear_model import LinearRegression"
   ]
  },
  {
   "cell_type": "markdown",
   "metadata": {},
   "source": [
    "# Data printing"
   ]
  },
  {
   "cell_type": "code",
   "execution_count": 28,
   "metadata": {
    "scrolled": true
   },
   "outputs": [
    {
     "name": "stdout",
     "output_type": "stream",
     "text": [
      "Reliance\n",
      "We will predict stock price daywise\n"
     ]
    }
   ],
   "source": [
    "\n",
    "datasets=os.listdir(\"C:\\\\Users\\\\kavin\\\\OneDrive\\\\Desktop\\\\datatata\")\n",
    "data=[]\n",
    "c=input()\n",
    "c=c.upper()\n",
    "c=list(c)\n",
    "for i in range(len(c)):\n",
    "    if c[i]==' ':\n",
    "        c[i]='_'\n",
    "c=''.join(c)\n",
    "d=c+\"__EQ__INDICES__NSE__MINUTE.csv\"\n",
    "c=c+\"__EQ__NSE__NSE__MINUTE.csv\"\n",
    "found=0\n",
    "for i in datasets:\n",
    "    if i==c:\n",
    "        found=1\n",
    "        break\n",
    "    elif i==d:\n",
    "        found=1\n",
    "        c=d\n",
    "        break\n",
    "        \n",
    "if found:\n",
    "    path=\"C:\\\\Users\\\\kavin\\\\OneDrive\\\\Desktop\\\\datatata\\\\\"+c\n",
    "    dataset=pd.read_csv(path)\n",
    "    dataset['timestamp']=dataset['timestamp'].astype('string')\n",
    "    dataset[['Date','Time']] = dataset.timestamp.str.split(\" \",expand=True,)\n",
    "    if len(dataset)<200:\n",
    "        print(\"Insufficient Data\")\n",
    "    else:\n",
    "        dataset=dataset.dropna(how=\"any\",subset=['open','high','volume','close'])\n",
    "        dataset=dataset.drop_duplicates(keep='last')\n",
    "        dataset['Date']=pd.to_datetime(dataset['Date'])\n",
    "        print(\"We will predict stock price daywise\")\n",
    "        reqopen=dataset.groupby('Date')['open'].apply(list).apply(lambda x : x[0])\n",
    "        reqclose=dataset.groupby('Date')['close'].apply(list).apply(lambda x : x[-1])\n",
    "        reqhigh=dataset.groupby('Date')['high'].max()\n",
    "        reqlow=dataset.groupby('Date')['low'].min()\n",
    "        hropen=[]\n",
    "        hrclose=[]\n",
    "        hrhigh=[]\n",
    "        hrlow=[]\n",
    "        for k in range(len(reqopen)):\n",
    "            hropen.append(reqopen[k])\n",
    "            hrclose.append(reqclose[k])\n",
    "            hrhigh.append(reqhigh[k])\n",
    "            hrlow.append(reqlow[k])\n",
    "        hrdata={'open':hropen,'high':hrhigh,'low':hrlow,'close':hrclose}\n",
    "        HrData=pd.DataFrame(hrdata)\n",
    "        dataset=HrData\n",
    "else:\n",
    "    print(\"Company not Present\")"
   ]
  },
  {
   "cell_type": "code",
   "execution_count": 30,
   "metadata": {},
   "outputs": [
    {
     "data": {
      "text/html": [
       "<div>\n",
       "<style scoped>\n",
       "    .dataframe tbody tr th:only-of-type {\n",
       "        vertical-align: middle;\n",
       "    }\n",
       "\n",
       "    .dataframe tbody tr th {\n",
       "        vertical-align: top;\n",
       "    }\n",
       "\n",
       "    .dataframe thead th {\n",
       "        text-align: right;\n",
       "    }\n",
       "</style>\n",
       "<table border=\"1\" class=\"dataframe\">\n",
       "  <thead>\n",
       "    <tr style=\"text-align: right;\">\n",
       "      <th></th>\n",
       "      <th>level_0</th>\n",
       "      <th>index</th>\n",
       "      <th>open</th>\n",
       "      <th>high</th>\n",
       "      <th>low</th>\n",
       "      <th>close</th>\n",
       "    </tr>\n",
       "  </thead>\n",
       "  <tbody>\n",
       "    <tr>\n",
       "      <th>0</th>\n",
       "      <td>0</td>\n",
       "      <td>0</td>\n",
       "      <td>541.63</td>\n",
       "      <td>545.00</td>\n",
       "      <td>536.20</td>\n",
       "      <td>543.50</td>\n",
       "    </tr>\n",
       "    <tr>\n",
       "      <th>1</th>\n",
       "      <td>1</td>\n",
       "      <td>1</td>\n",
       "      <td>544.90</td>\n",
       "      <td>548.50</td>\n",
       "      <td>540.55</td>\n",
       "      <td>544.50</td>\n",
       "    </tr>\n",
       "    <tr>\n",
       "      <th>2</th>\n",
       "      <td>2</td>\n",
       "      <td>2</td>\n",
       "      <td>546.00</td>\n",
       "      <td>546.50</td>\n",
       "      <td>532.15</td>\n",
       "      <td>533.58</td>\n",
       "    </tr>\n",
       "    <tr>\n",
       "      <th>3</th>\n",
       "      <td>3</td>\n",
       "      <td>3</td>\n",
       "      <td>536.00</td>\n",
       "      <td>539.95</td>\n",
       "      <td>534.50</td>\n",
       "      <td>538.50</td>\n",
       "    </tr>\n",
       "    <tr>\n",
       "      <th>4</th>\n",
       "      <td>4</td>\n",
       "      <td>4</td>\n",
       "      <td>537.50</td>\n",
       "      <td>542.50</td>\n",
       "      <td>536.55</td>\n",
       "      <td>536.98</td>\n",
       "    </tr>\n",
       "    <tr>\n",
       "      <th>...</th>\n",
       "      <td>...</td>\n",
       "      <td>...</td>\n",
       "      <td>...</td>\n",
       "      <td>...</td>\n",
       "      <td>...</td>\n",
       "      <td>...</td>\n",
       "    </tr>\n",
       "    <tr>\n",
       "      <th>826</th>\n",
       "      <td>826</td>\n",
       "      <td>826</td>\n",
       "      <td>1580.00</td>\n",
       "      <td>1615.00</td>\n",
       "      <td>1572.50</td>\n",
       "      <td>1574.50</td>\n",
       "    </tr>\n",
       "    <tr>\n",
       "      <th>827</th>\n",
       "      <td>827</td>\n",
       "      <td>827</td>\n",
       "      <td>1564.80</td>\n",
       "      <td>1568.35</td>\n",
       "      <td>1465.00</td>\n",
       "      <td>1486.00</td>\n",
       "    </tr>\n",
       "    <tr>\n",
       "      <th>828</th>\n",
       "      <td>828</td>\n",
       "      <td>828</td>\n",
       "      <td>1527.00</td>\n",
       "      <td>1527.00</td>\n",
       "      <td>1454.20</td>\n",
       "      <td>1492.50</td>\n",
       "    </tr>\n",
       "    <tr>\n",
       "      <th>829</th>\n",
       "      <td>829</td>\n",
       "      <td>829</td>\n",
       "      <td>1469.00</td>\n",
       "      <td>1496.00</td>\n",
       "      <td>1430.20</td>\n",
       "      <td>1436.90</td>\n",
       "    </tr>\n",
       "    <tr>\n",
       "      <th>830</th>\n",
       "      <td>830</td>\n",
       "      <td>830</td>\n",
       "      <td>1444.00</td>\n",
       "      <td>1466.60</td>\n",
       "      <td>1415.25</td>\n",
       "      <td>1453.40</td>\n",
       "    </tr>\n",
       "  </tbody>\n",
       "</table>\n",
       "<p>831 rows × 6 columns</p>\n",
       "</div>"
      ],
      "text/plain": [
       "     level_0  index     open     high      low    close\n",
       "0          0      0   541.63   545.00   536.20   543.50\n",
       "1          1      1   544.90   548.50   540.55   544.50\n",
       "2          2      2   546.00   546.50   532.15   533.58\n",
       "3          3      3   536.00   539.95   534.50   538.50\n",
       "4          4      4   537.50   542.50   536.55   536.98\n",
       "..       ...    ...      ...      ...      ...      ...\n",
       "826      826    826  1580.00  1615.00  1572.50  1574.50\n",
       "827      827    827  1564.80  1568.35  1465.00  1486.00\n",
       "828      828    828  1527.00  1527.00  1454.20  1492.50\n",
       "829      829    829  1469.00  1496.00  1430.20  1436.90\n",
       "830      830    830  1444.00  1466.60  1415.25  1453.40\n",
       "\n",
       "[831 rows x 6 columns]"
      ]
     },
     "execution_count": 30,
     "metadata": {},
     "output_type": "execute_result"
    }
   ],
   "source": [
    "dataset.reset_index(drop=False, inplace=True)\n",
    "dataset"
   ]
  },
  {
   "cell_type": "code",
   "execution_count": 10,
   "metadata": {},
   "outputs": [
    {
     "data": {
      "text/plain": [
       "698"
      ]
     },
     "execution_count": 10,
     "metadata": {},
     "output_type": "execute_result"
    }
   ],
   "source": [
    "#Independent Variable and Dependent Variable\n",
    "start=round((0.84)*len(dataset))\n",
    "x1 = dataset.iloc[700:,1:4].values \n",
    "y1 = dataset.iloc[700:, -1].values\n",
    "start"
   ]
  },
  {
   "cell_type": "code",
   "execution_count": 11,
   "metadata": {},
   "outputs": [],
   "source": [
    "# Splitting the dataset into the Training set and Test set \n",
    "from sklearn.model_selection import train_test_split \n",
    "x_train, x_test, y_train, y_test = train_test_split(x1, y1, test_size = 0.2, random_state = 0)\n"
   ]
  },
  {
   "cell_type": "code",
   "execution_count": 12,
   "metadata": {},
   "outputs": [
    {
     "data": {
      "text/plain": [
       "LinearRegression()"
      ]
     },
     "execution_count": 12,
     "metadata": {},
     "output_type": "execute_result"
    }
   ],
   "source": [
    "# # Fitting Multiple Linear Regression to the Training set on open\n",
    "from sklearn.linear_model import LinearRegression \n",
    "regressor = LinearRegression() \n",
    "regressor.fit(x_train, y_train)"
   ]
  },
  {
   "cell_type": "code",
   "execution_count": 13,
   "metadata": {},
   "outputs": [],
   "source": [
    "# Predicting the Test set results \n",
    "y_pred = regressor.predict(x_test)"
   ]
  },
  {
   "cell_type": "code",
   "execution_count": 14,
   "metadata": {},
   "outputs": [
    {
     "data": {
      "text/plain": [
       "27"
      ]
     },
     "execution_count": 14,
     "metadata": {},
     "output_type": "execute_result"
    }
   ],
   "source": [
    "k=list(y_test-y_pred)\n",
    "len(k)"
   ]
  },
  {
   "cell_type": "code",
   "execution_count": 15,
   "metadata": {},
   "outputs": [],
   "source": [
    "# accuracy metrics \n",
    "from sklearn.metrics import mean_squared_error,r2_score \n",
    "rmse = (np.sqrt(mean_squared_error(y_test, y_pred))) \n",
    "r2score = r2_score(y_test, y_pred)"
   ]
  },
  {
   "cell_type": "code",
   "execution_count": 22,
   "metadata": {
    "scrolled": true
   },
   "outputs": [
    {
     "name": "stdout",
     "output_type": "stream",
     "text": [
      "0.9362500358355776\n"
     ]
    }
   ],
   "source": [
    "\n",
    "print(r2score)"
   ]
  },
  {
   "cell_type": "code",
   "execution_count": 16,
   "metadata": {},
   "outputs": [
    {
     "data": {
      "text/plain": [
       "[<matplotlib.lines.Line2D at 0x15971df0>]"
      ]
     },
     "execution_count": 16,
     "metadata": {},
     "output_type": "execute_result"
    },
    {
     "data": {
      "image/png": "[encoded data removed]",
      "text/plain": [
       "<Figure size 432x288 with 1 Axes>"
      ]
     },
     "metadata": {
      "needs_background": "light"
     },
     "output_type": "display_data"
    }
   ],
   "source": [
    "#plt.plot(reqopen[800:])\n",
    "plt.plot(reqclose[800:])\n",
    "#plt.plot(reqhigh[800:])\n",
    "#plt.plot(reqlow[800:])"
   ]
  },
  {
   "cell_type": "markdown",
   "metadata": {},
   "source": [
    "# for close prediction"
   ]
  },
  {
   "cell_type": "code",
   "execution_count": 17,
   "metadata": {},
   "outputs": [],
   "source": [
    "# Independent Variable and Dependent Variable \n",
    "x2 = dataset.iloc[:,1:4].values \n",
    "y2= dataset.iloc[:, 4].values"
   ]
  },
  {
   "cell_type": "code",
   "execution_count": 18,
   "metadata": {},
   "outputs": [],
   "source": [
    "# Splitting the dataset into the Training set and Test set \n",
    "x_train, x_test, y_train, y_test = train_test_split(x2, y2, test_size = 0.2, random_state = 0)"
   ]
  },
  {
   "cell_type": "code",
   "execution_count": 19,
   "metadata": {},
   "outputs": [
    {
     "data": {
      "text/plain": [
       "LinearRegression()"
      ]
     },
     "execution_count": 19,
     "metadata": {},
     "output_type": "execute_result"
    }
   ],
   "source": [
    "# # Fitting Multiple Linear Regression to the Training set on close\n",
    "from sklearn.linear_model import LinearRegression \n",
    "regressor = LinearRegression() \n",
    "regressor.fit(x_train, y_train)"
   ]
  },
  {
   "cell_type": "code",
   "execution_count": 20,
   "metadata": {},
   "outputs": [],
   "source": [
    "# Predicting the Test set results \n",
    "y_pred = regressor.predict(x_test)"
   ]
  },
  {
   "cell_type": "code",
   "execution_count": 21,
   "metadata": {},
   "outputs": [
    {
     "data": {
      "text/plain": [
       "array([ -5.37056822,  22.32072588,  -5.49036322,   6.87025901,\n",
       "         6.55908732,   8.25936051,   5.70183191, -13.44392892,\n",
       "       -11.92933503, -10.71629298,   3.28490459,   5.49899303,\n",
       "         0.81630434,   1.2348054 ,   0.33646384,  -1.17319468,\n",
       "        -0.82085478,  -4.6791002 ,  -3.05922764,  15.75937879,\n",
       "        11.24121192,   5.87574668, -13.48921097,   7.13800852,\n",
       "        -3.469555  ,  -4.29096144,  -0.13690944,  -7.91356166,\n",
       "        -0.76902388,  -5.58939237,   2.52472044,   2.57782299,\n",
       "         5.23398879,  -2.02143161,   2.55152   ,  -2.82698085,\n",
       "        -4.13928792,  -6.15728558,   4.77920669,   1.28876559,\n",
       "        -8.14405729,  -4.22493655,  -1.3024567 ,   0.3114298 ,\n",
       "        -7.37728197,  -3.3315432 ,  11.43881414,   3.80920823,\n",
       "        15.27426254,   0.95767247,   8.92144133,  -5.16172983,\n",
       "         4.28723526,   1.59674177,  24.72510177,  -2.90191036,\n",
       "        -9.02136179,   8.47366922,  11.96681398,  -2.48803179,\n",
       "        14.26739077,   8.44201456,   7.10388013,  -1.08487572,\n",
       "         0.33033863,  -0.76990178, -10.19050763,   4.29161365,\n",
       "        -5.89759512,  -5.7219656 ,   8.11824706,   1.74839406,\n",
       "        -1.15055475,   7.66522765,   3.6044027 ,  -6.62119968,\n",
       "         2.57201224,   9.20303707,  -0.12002348,   5.71271377,\n",
       "       -18.87773122,  -1.52812554,  -5.38017668,  -2.28599585,\n",
       "        19.88827429,   0.16634778, -17.83066361, -20.07704197,\n",
       "        -0.2320824 ,  13.46258916,  18.76381048,  19.77275695,\n",
       "         0.11519108,  14.1729727 ,  -7.26137809,  11.93055679,\n",
       "        -5.4279377 , -30.76380055,  -4.70455716,  -8.08087879,\n",
       "        -4.13614219,  -9.89571013,   7.14808451,  12.72460035,\n",
       "         4.65463323,   7.0773489 , -85.12299945, -31.38878851,\n",
       "        -5.08436426,  -0.69765274,  -7.8509926 ,   4.34225253,\n",
       "         6.48658839,  10.12249005,  23.19686288, -13.33545411,\n",
       "        -2.64291449,   1.76716579,  22.8961447 ,   1.62284462,\n",
       "       -20.28470259,  15.11978036,   2.28857992,  -0.91392038,\n",
       "        -4.06393586,   9.99854955,  -5.45438193, -12.30040894,\n",
       "         2.22622089, -19.91988605,   9.94112557,   8.8656903 ,\n",
       "        11.34151979,  11.61176365,  23.67435292,   3.26012095,\n",
       "         0.41782308,  -4.00408354, -12.90212264,  17.49373041,\n",
       "         6.063944  ,   2.57191122, -35.90448251, -20.00636259,\n",
       "         0.86285257,   5.07024909,  -4.69710974,   6.01458033,\n",
       "        11.66021216,  -1.6687914 ,  10.59193488, -16.80746172,\n",
       "         9.22469629,  -2.94496129,   8.3011331 ,   7.29636239,\n",
       "       -10.07583992,   3.24442949,  -8.60518772, -17.19648926,\n",
       "       -18.80121071,  20.42754114,   2.33771929,   4.74614486,\n",
       "         5.29515882, -12.20846866,   6.9366503 ])"
      ]
     },
     "execution_count": 21,
     "metadata": {},
     "output_type": "execute_result"
    }
   ],
   "source": [
    "y_test-y_pred"
   ]
  },
  {
   "cell_type": "code",
   "execution_count": 22,
   "metadata": {},
   "outputs": [],
   "source": [
    "# accuracy metrics \n",
    "from sklearn.metrics import mean_squared_error,r2_score \n",
    "rmse = (np.sqrt(mean_squared_error(y_test, y_pred))) \n",
    "r2score = r2_score(y_test, y_pred)"
   ]
  },
  {
   "cell_type": "code",
   "execution_count": 23,
   "metadata": {},
   "outputs": [
    {
     "name": "stdout",
     "output_type": "stream",
     "text": [
      "12.362467669874013\n",
      "0.9989656455322679\n"
     ]
    }
   ],
   "source": [
    "print(rmse) \n",
    "print(r2score)"
   ]
  },
  {
   "cell_type": "code",
   "execution_count": 24,
   "metadata": {},
   "outputs": [
    {
     "ename": "PermissionError",
     "evalue": "[WinError 21] The device is not ready: 'F:\\\\PROGRAMMES\\\\pythn\\\\ML Project\\\\HISTORICAL_DATA'",
     "output_type": "error",
     "traceback": [
      "\u001b[1;31m---------------------------------------------------------------------------\u001b[0m",
      "\u001b[1;31mPermissionError\u001b[0m                           Traceback (most recent call last)",
      "\u001b[1;32m<ipython-input-24-1e6cc98ac50f>\u001b[0m in \u001b[0;36m<module>\u001b[1;34m\u001b[0m\n\u001b[0;32m      1\u001b[0m \u001b[1;32mimport\u001b[0m \u001b[0mos\u001b[0m\u001b[1;33m\u001b[0m\u001b[1;33m\u001b[0m\u001b[0m\n\u001b[1;32m----> 2\u001b[1;33m \u001b[0mdatasets\u001b[0m\u001b[1;33m=\u001b[0m\u001b[0mos\u001b[0m\u001b[1;33m.\u001b[0m\u001b[0mlistdir\u001b[0m\u001b[1;33m(\u001b[0m\u001b[1;34m\"F:\\PROGRAMMES\\pythn\\ML Project\\HISTORICAL_DATA\"\u001b[0m\u001b[1;33m)\u001b[0m\u001b[1;33m\u001b[0m\u001b[1;33m\u001b[0m\u001b[0m\n\u001b[0m\u001b[0;32m      3\u001b[0m \u001b[0mdata\u001b[0m\u001b[1;33m=\u001b[0m\u001b[1;33m[\u001b[0m\u001b[1;33m]\u001b[0m\u001b[1;33m\u001b[0m\u001b[1;33m\u001b[0m\u001b[0m\n\u001b[0;32m      4\u001b[0m \u001b[0mc\u001b[0m\u001b[1;33m=\u001b[0m\u001b[0minput\u001b[0m\u001b[1;33m(\u001b[0m\u001b[1;33m)\u001b[0m\u001b[1;33m\u001b[0m\u001b[1;33m\u001b[0m\u001b[0m\n\u001b[0;32m      5\u001b[0m \u001b[0mc\u001b[0m\u001b[1;33m=\u001b[0m\u001b[0mc\u001b[0m\u001b[1;33m.\u001b[0m\u001b[0mupper\u001b[0m\u001b[1;33m(\u001b[0m\u001b[1;33m)\u001b[0m\u001b[1;33m\u001b[0m\u001b[1;33m\u001b[0m\u001b[0m\n",
      "\u001b[1;31mPermissionError\u001b[0m: [WinError 21] The device is not ready: 'F:\\\\PROGRAMMES\\\\pythn\\\\ML Project\\\\HISTORICAL_DATA'"
     ]
    }
   ],
   "source": [
    "import os\n",
    "datasets=os.listdir(\"F:\\PROGRAMMES\\pythn\\ML Project\\HISTORICAL_DATA\")\n",
    "data=[]\n",
    "c=input()\n",
    "c=c.upper()\n",
    "c=list(c)\n",
    "for i in range(len(c)):\n",
    "    if c[i]==' ':\n",
    "        c[i]='_'\n",
    "c=''.join(c)\n",
    "d=c+\"__EQ__INDICES__NSE__MINUTE.csv\"\n",
    "c=c+\"__EQ__NSE__NSE__MINUTE.csv\"\n",
    "found=0\n",
    "for i in datasets:\n",
    "    if i==c:\n",
    "        found=1\n",
    "        break\n",
    "    elif i==d:\n",
    "        found=1\n",
    "        c=d\n",
    "        break\n",
    "        \n",
    "if found:\n",
    "    path=\"F:\\PROGRAMMES\\pythn\\ML Project\\HISTORICAL_DATA\\\\\"+c\n",
    "    dataset=pd.read_csv(path)\n",
    "    dataset=pd.DataFrame(dataset)\n",
    "    dataset['timestamp']=dataset['timestamp'].astype('string')\n",
    "    dataset[['Date','Time']] = dataset.timestamp.str.split(\" \",expand=True,)\n",
    "    if len(dataset)<200:\n",
    "        print(\"Insufficient Data\")\n",
    "    else:\n",
    "        dataset=dataset.dropna(how=\"any\",subset=['open','high','volume','close'])\n",
    "        dataset=dataset.drop_duplicates(keep='last')\n",
    "        dataset['Date']=pd.to_datetime(dataset['Date'])\n",
    "        dataset['Time']=dataset['Time'].apply(lambda i:i[:2])\n",
    "dataset"
   ]
  },
  {
   "cell_type": "code",
   "execution_count": 6,
   "metadata": {},
   "outputs": [
    {
     "data": {
      "text/plain": [
       "0          541.63\n",
       "1          541.45\n",
       "2          541.63\n",
       "3          537.33\n",
       "4          539.95\n",
       "           ...   \n",
       "310481    1457.75\n",
       "310482    1455.45\n",
       "310483    1452.80\n",
       "310484    1453.70\n",
       "310485    1452.70\n",
       "Name: open, Length: 310348, dtype: float64"
      ]
     },
     "execution_count": 6,
     "metadata": {},
     "output_type": "execute_result"
    }
   ],
   "source": [
    "op=dataset['open']\n",
    "op"
   ]
  },
  {
   "cell_type": "code",
   "execution_count": 12,
   "metadata": {},
   "outputs": [
    {
     "data": {
      "text/plain": [
       "(array([28532., 38713., 68474., 40805., 64342., 41090., 28392.]),\n",
       " array([ 507.25      ,  665.63571429,  824.02142857,  982.40714286,\n",
       "        1140.79285714, 1299.17857143, 1457.56428571, 1615.95      ]),\n",
       " <a list of 7 Patch objects>)"
      ]
     },
     "execution_count": 12,
     "metadata": {},
     "output_type": "execute_result"
    },
    {
     "data": {
      "image/png": "[encoded data removed]",
      "text/plain": [
       "<Figure size 432x288 with 1 Axes>"
      ]
     },
     "metadata": {
      "needs_background": "light"
     },
     "output_type": "display_data"
    }
   ],
   "source": [
    "plt.hist(op,bins=7,color='green')"
   ]
  },
  {
   "cell_type": "code",
   "execution_count": 13,
   "metadata": {},
   "outputs": [
    {
     "data": {
      "text/plain": [
       "(array([28522., 38665., 68519., 40827., 64336., 41073., 28406.]),\n",
       " array([ 507.18      ,  665.58285714,  823.98571429,  982.38857143,\n",
       "        1140.79142857, 1299.19428571, 1457.59714286, 1616.        ]),\n",
       " <a list of 7 Patch objects>)"
      ]
     },
     "execution_count": 13,
     "metadata": {},
     "output_type": "execute_result"
    },
    {
     "data": {
      "image/png": "[encoded data removed]",
      "text/plain": [
       "<Figure size 432x288 with 1 Axes>"
      ]
     },
     "metadata": {
      "needs_background": "light"
     },
     "output_type": "display_data"
    }
   ],
   "source": [
    "cl=dataset['close']\n",
    "plt.hist(cl,bins=7,color='red')"
   ]
  },
  {
   "cell_type": "markdown",
   "metadata": {},
   "source": [
    "# GUI  Of Project"
   ]
  },
  {
   "cell_type": "code",
   "execution_count": null,
   "metadata": {},
   "outputs": [
    {
     "name": "stdout",
     "output_type": "stream",
     "text": [
      "C:\\Users\\kavin\\OneDrive\\Desktop\\datatata\n",
      "RELIANCE\n",
      "We will predict stock price daywise\n",
      "1 830\n",
      "830\n"
     ]
    },
    {
     "name": "stderr",
     "output_type": "stream",
     "text": [
      "Exception in Tkinter callback\n",
      "Traceback (most recent call last):\n",
      "  File \"c:\\users\\kavin\\appdata\\local\\programs\\python\\python38-32\\lib\\tkinter\\__init__.py\", line 1883, in __call__\n",
      "    return self.func(*args)\n",
      "  File \"<ipython-input-5-2eb8d3290c8f>\", line 149, in <lambda>\n",
      "    ttk.Button(window,text=\"Prediction Result\",command = lambda : disp_predict()).pack() #grid(row=3,column=1)\n",
      "  File \"<ipython-input-5-2eb8d3290c8f>\", line 123, in disp_predict\n",
      "    label.config(wraplength=150)\n",
      "AttributeError: 'NoneType' object has no attribute 'config'\n"
     ]
    }
   ],
   "source": [
    "path=\"\" \n",
    "company=\"\" \n",
    "created_model=1 \n",
    "datasets=\"\"\n",
    "dataset=\"\"\n",
    "k=0\n",
    "\n",
    "def set_path():    \n",
    "    global path    \n",
    "    path=x1.get()    \n",
    "    print(path)\n",
    "    \n",
    "def set_company():    \n",
    "    global company    \n",
    "    company=x2.get() \n",
    "    company=company.upper()\n",
    "    print(company)\n",
    "           \n",
    "        \n",
    "def data_disp():\n",
    "    global k\n",
    "    k+=1\n",
    "    load_model(k)\n",
    "     \n",
    "        \n",
    "    \n",
    "def load_model(a):    \n",
    "    global path,company,k,datasets,dataset    \n",
    "    datasets=os.listdir(path)\n",
    "    data=[]\n",
    "    c=company\n",
    "    c=list(c)\n",
    "    for i in range(len(c)):\n",
    "        if c[i]==' ':\n",
    "            c[i]='_'\n",
    "    c=''.join(c)\n",
    "    d=c+\"__EQ__INDICES__NSE__MINUTE.csv\"\n",
    "    c=c+\"__EQ__NSE__NSE__MINUTE.csv\"\n",
    "    found=0\n",
    "    for i in datasets:\n",
    "        if i==c:\n",
    "            found=1\n",
    "            break\n",
    "        elif i==d:\n",
    "            found=1\n",
    "            c=d\n",
    "            break\n",
    "    if found:\n",
    "        k+=1\n",
    "        path=path+'\\\\'+c\n",
    "        dataset=pd.read_csv(path)\n",
    "        dataset['timestamp']=dataset['timestamp'].astype('string')\n",
    "        dataset[['Date','Time']] = dataset.timestamp.str.split(\" \",expand=True,)\n",
    "        if len(dataset)<200:\n",
    "            print(\"Insufficient Data\")\n",
    "        else:\n",
    "            dataset=dataset.dropna(how=\"any\",subset=['open','high','volume','close'])\n",
    "            dataset=dataset.drop_duplicates(keep='last')\n",
    "            dataset['Date']=pd.to_datetime(dataset['Date'])\n",
    "            print(\"We will predict stock price daywise\")\n",
    "            reqopen=dataset.groupby('Date')['open'].apply(list).apply(lambda x : x[0])\n",
    "            reqclose=dataset.groupby('Date')['close'].apply(list).apply(lambda x : x[-1])\n",
    "            reqhigh=dataset.groupby('Date')['high'].max()\n",
    "            reqlow=dataset.groupby('Date')['low'].min()\n",
    "            hropen=[]\n",
    "            hrclose=[]\n",
    "            hrhigh=[]\n",
    "            hrlow=[]\n",
    "            for k in range(len(reqopen)):\n",
    "                hropen.append(reqopen[k])\n",
    "                hrclose.append(reqclose[k])\n",
    "                hrhigh.append(reqhigh[k])\n",
    "                hrlow.append(reqlow[k])\n",
    "            hrdata={'open':hropen,'high':hrhigh,'low':hrlow,'close':hrclose}\n",
    "            HrData=pd.DataFrame(hrdata)\n",
    "            dataset=HrData\n",
    "            dataset.reset_index(drop=False, inplace=True)\n",
    "    else:\n",
    "        print(\"Company not Present\")\n",
    "    print(a,k)\n",
    "    if a!=0 and k>10:\n",
    "        class TestApp(Frame):\n",
    "            def __init__(self, parent=None):\n",
    "                self.parent = parent\n",
    "                Frame.__init__(self)\n",
    "                self.main = self.master\n",
    "                self.main.geometry('600x400+200+100')\n",
    "                self.main.title('Data displaying')\n",
    "                f = Frame(self.main)\n",
    "                f.pack(fill=BOTH,expand=1)\n",
    "                df = dataset\n",
    "                self.table = pt = Table(f, dataframe=df,showtoolbar=True, showstatusbar=True)\n",
    "                pt.show()\n",
    "                return\n",
    "\n",
    "        app = TestApp()\n",
    "        #launch the app\n",
    "        app.mainloop()\n",
    "\n",
    "    else:\n",
    "        window=tk.Tk()    \n",
    "        window.geometry('500x200')    \n",
    "        label=tk.Label(window,text=\"We do not predict this company stocks value \\n  Or \\n Write Correct spelling of the Company\",font=(\"Bold\",15)).pack() #grid(row=0,column=1)  \n",
    "        label.config(wraplength=150)    \n",
    "        tk.mainloop()    \n",
    "        \n",
    "def disp_predict():\n",
    "    global k\n",
    "    print(k)\n",
    "    if k!=0:\n",
    "        x1 = dataset.iloc[700:,1:4].values \n",
    "        y1 = dataset.iloc[700:,-1].values\n",
    "        x_train, x_test, y_train, y_test = train_test_split(x1, y1, test_size = 0.2, random_state = 0)\n",
    "        regressor = LinearRegression() \n",
    "        regressor.fit(x_train, y_train)\n",
    "        y_pred = regressor.predict(x_test)\n",
    "        rmse = (np.sqrt(mean_squared_error(y_test, y_pred))) \n",
    "        r2score = r2_score(y_test, y_pred)\n",
    "        window=tk.Tk()    \n",
    "        window.geometry('400x300')    \n",
    "        label=tk.Label(window,text=\"The rmse value is : \"+str(rmse),font=(\"Bold\",10)).pack() #grid(row=0,column=0)\n",
    "        label=tk.Label(window,text=\"The r2score value is : \"+str(r2score),font=(\"Bold\",10)).pack() #grid(row=1,column=0)    \n",
    "        label.config(wraplength=150)    \n",
    "        tk.mainloop() \n",
    "        \n",
    "    else:\n",
    "        window=tk.Tk()    \n",
    "        window.geometry('500x200')    \n",
    "        label=tk.Label(window,text=\"We do not predict this company stocks value \\n  Or \\n Write Correct spelling of the Company\",font=(\"Bold\",15))    \n",
    "        label.pack()\n",
    "        label.config(wraplength=150)    \n",
    "        tk.mainloop()       \n",
    "    \n",
    "window=tk.Tk() \n",
    "window.title(\"Stock Price Predictor\") \n",
    "x1=tk.StringVar() \n",
    "x2=tk.StringVar() \n",
    "\n",
    "ttk.Label(window,text=\"Enter the path of dataset below :\").pack() #grid(row=0,column=0) \n",
    "ttk.Entry(window,textvariable=x1).pack() #grid(row=0,column=1,columnspan=1) \n",
    "ttk.Button(window,text=\"Submit\",command=lambda:set_path()).pack() #grid(row=0,column=2,columnspan=1)\n",
    "\n",
    "ttk.Label(window,text=\"Enter the Company Name below:\").pack() #grid(row=1,column=0) \n",
    "ttk.Entry(window,textvariable=x2).pack() #grid(row=1,column=1,columnspan=1) \n",
    "ttk.Button(window,text=\"Submit\",command=lambda : set_company()).pack() #grid(row=1,column=2,columnspan=1)\n",
    "\n",
    "ttk.Button(window,text=\"Display data\",command = lambda : data_disp()).pack() #grid(row=2,column=1) \n",
    "\n",
    "ttk.Button(window,text=\"Prediction Result\",command = lambda : disp_predict()).pack() #grid(row=3,column=1) \n",
    "\n",
    "\n",
    "tk.mainloop()"
   ]
  },
  {
   "cell_type": "code",
   "execution_count": 14,
   "metadata": {},
   "outputs": [
    {
     "data": {
      "text/plain": [
       "(array([28635., 38736., 68450., 40871., 64275., 41075., 28306.]),\n",
       " array([ 507.6       ,  666.16428571,  824.72857143,  983.29285714,\n",
       "        1141.85714286, 1300.42142857, 1458.98571429, 1617.55      ]),\n",
       " <a list of 7 Patch objects>)"
      ]
     },
     "execution_count": 14,
     "metadata": {},
     "output_type": "execute_result"
    },
    {
     "data": {
      "image/png": "[encoded data removed]",
      "text/plain": [
       "<Figure size 432x288 with 1 Axes>"
      ]
     },
     "metadata": {
      "needs_background": "light"
     },
     "output_type": "display_data"
    }
   ],
   "source": [
    "hi=dataset['high']\n",
    "plt.hist(hi,bins=7,color='red')"
   ]
  },
  {
   "cell_type": "code",
   "execution_count": 26,
   "metadata": {},
   "outputs": [
    {
     "data": {
      "text/html": [
       "<div>\n",
       "<style scoped>\n",
       "    .dataframe tbody tr th:only-of-type {\n",
       "        vertical-align: middle;\n",
       "    }\n",
       "\n",
       "    .dataframe tbody tr th {\n",
       "        vertical-align: top;\n",
       "    }\n",
       "\n",
       "    .dataframe thead th {\n",
       "        text-align: right;\n",
       "    }\n",
       "</style>\n",
       "<table border=\"1\" class=\"dataframe\">\n",
       "  <thead>\n",
       "    <tr style=\"text-align: right;\">\n",
       "      <th></th>\n",
       "      <th>index</th>\n",
       "      <th>open</th>\n",
       "      <th>high</th>\n",
       "      <th>low</th>\n",
       "      <th>close</th>\n",
       "    </tr>\n",
       "  </thead>\n",
       "  <tbody>\n",
       "    <tr>\n",
       "      <th>0</th>\n",
       "      <td>0</td>\n",
       "      <td>541.63</td>\n",
       "      <td>545.00</td>\n",
       "      <td>536.20</td>\n",
       "      <td>543.50</td>\n",
       "    </tr>\n",
       "    <tr>\n",
       "      <th>1</th>\n",
       "      <td>1</td>\n",
       "      <td>544.90</td>\n",
       "      <td>548.50</td>\n",
       "      <td>540.55</td>\n",
       "      <td>544.50</td>\n",
       "    </tr>\n",
       "    <tr>\n",
       "      <th>2</th>\n",
       "      <td>2</td>\n",
       "      <td>546.00</td>\n",
       "      <td>546.50</td>\n",
       "      <td>532.15</td>\n",
       "      <td>533.58</td>\n",
       "    </tr>\n",
       "    <tr>\n",
       "      <th>3</th>\n",
       "      <td>3</td>\n",
       "      <td>536.00</td>\n",
       "      <td>539.95</td>\n",
       "      <td>534.50</td>\n",
       "      <td>538.50</td>\n",
       "    </tr>\n",
       "    <tr>\n",
       "      <th>4</th>\n",
       "      <td>4</td>\n",
       "      <td>537.50</td>\n",
       "      <td>542.50</td>\n",
       "      <td>536.55</td>\n",
       "      <td>536.98</td>\n",
       "    </tr>\n",
       "    <tr>\n",
       "      <th>...</th>\n",
       "      <td>...</td>\n",
       "      <td>...</td>\n",
       "      <td>...</td>\n",
       "      <td>...</td>\n",
       "      <td>...</td>\n",
       "    </tr>\n",
       "    <tr>\n",
       "      <th>826</th>\n",
       "      <td>826</td>\n",
       "      <td>1580.00</td>\n",
       "      <td>1615.00</td>\n",
       "      <td>1572.50</td>\n",
       "      <td>1574.50</td>\n",
       "    </tr>\n",
       "    <tr>\n",
       "      <th>827</th>\n",
       "      <td>827</td>\n",
       "      <td>1564.80</td>\n",
       "      <td>1568.35</td>\n",
       "      <td>1465.00</td>\n",
       "      <td>1486.00</td>\n",
       "    </tr>\n",
       "    <tr>\n",
       "      <th>828</th>\n",
       "      <td>828</td>\n",
       "      <td>1527.00</td>\n",
       "      <td>1527.00</td>\n",
       "      <td>1454.20</td>\n",
       "      <td>1492.50</td>\n",
       "    </tr>\n",
       "    <tr>\n",
       "      <th>829</th>\n",
       "      <td>829</td>\n",
       "      <td>1469.00</td>\n",
       "      <td>1496.00</td>\n",
       "      <td>1430.20</td>\n",
       "      <td>1436.90</td>\n",
       "    </tr>\n",
       "    <tr>\n",
       "      <th>830</th>\n",
       "      <td>830</td>\n",
       "      <td>1444.00</td>\n",
       "      <td>1466.60</td>\n",
       "      <td>1415.25</td>\n",
       "      <td>1453.40</td>\n",
       "    </tr>\n",
       "  </tbody>\n",
       "</table>\n",
       "<p>831 rows × 5 columns</p>\n",
       "</div>"
      ],
      "text/plain": [
       "     index     open     high      low    close\n",
       "0        0   541.63   545.00   536.20   543.50\n",
       "1        1   544.90   548.50   540.55   544.50\n",
       "2        2   546.00   546.50   532.15   533.58\n",
       "3        3   536.00   539.95   534.50   538.50\n",
       "4        4   537.50   542.50   536.55   536.98\n",
       "..     ...      ...      ...      ...      ...\n",
       "826    826  1580.00  1615.00  1572.50  1574.50\n",
       "827    827  1564.80  1568.35  1465.00  1486.00\n",
       "828    828  1527.00  1527.00  1454.20  1492.50\n",
       "829    829  1469.00  1496.00  1430.20  1436.90\n",
       "830    830  1444.00  1466.60  1415.25  1453.40\n",
       "\n",
       "[831 rows x 5 columns]"
      ]
     },
     "execution_count": 26,
     "metadata": {},
     "output_type": "execute_result"
    }
   ],
   "source": [
    "dataset"
   ]
  },
  {
   "cell_type": "code",
   "execution_count": null,
   "metadata": {},
   "outputs": [],
   "source": []
  }
 ],
 "metadata": {
  "kernelspec": {
   "display_name": "Python 3",
   "language": "python",
   "name": "python3"
  },
  "language_info": {
   "codemirror_mode": {
    "name": "ipython",
    "version": 3
   },
   "file_extension": ".py",
   "mimetype": "text/x-python",
   "name": "python",
   "nbconvert_exporter": "python",
   "pygments_lexer": "ipython3",
   "version": "3.9.5"
  }
 },
 "nbformat": 4,
 "nbformat_minor": 4
}
