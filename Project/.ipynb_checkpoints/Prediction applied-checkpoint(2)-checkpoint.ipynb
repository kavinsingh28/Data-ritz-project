{
 "cells": [
  {
   "cell_type": "code",
   "execution_count": 15,
   "metadata": {},
   "outputs": [],
   "source": [
    "import numpy as np\n",
    "import pandas as pd\n",
    "import matplotlib.pyplot as plt\n",
    "%matplotlib inline\n",
    "import seaborn as sns\n",
    "from scipy import stats\n",
    "import os\n",
    "from sklearn.metrics import mean_squared_error,r2_score \n",
    "import pandastable\n",
    "from tkinter import *\n",
    "from pandastable import Table, TableModel\n",
    "import tkinter as tk \n",
    "from tkinter import ttk \n",
    "# import pickle \n",
    "# import joblib  \n",
    "from sklearn.utils import shuffle \n",
    "from sklearn.linear_model import LogisticRegression\n",
    "from sklearn.model_selection import train_test_split\n",
    "from sklearn.linear_model import LinearRegression"
   ]
  },
  {
   "cell_type": "markdown",
   "metadata": {},
   "source": [
    "# Data printing"
   ]
  },
  {
   "cell_type": "code",
   "execution_count": 16,
   "metadata": {
    "scrolled": true
   },
   "outputs": [],
   "source": [
    "\n",
    "datasets=os.listdir(\"C:\\\\Users\\\\kavin\\\\OneDrive\\\\Desktop\\\\datatata\")\n",
    "data=[]\n",
    "c=input()\n",
    "c=c.upper()\n",
    "c=list(c)\n",
    "for i in range(len(c)):\n",
    "    if c[i]==' ':\n",
    "        c[i]='_'\n",
    "c=''.join(c)\n",
    "d=c+\"__EQ__INDICES__NSE__MINUTE.csv\"\n",
    "c=c+\"__EQ__NSE__NSE__MINUTE.csv\"\n",
    "found=0\n",
    "for i in datasets:\n",
    "    if i==c:\n",
    "        found=1\n",
    "        break\n",
    "    elif i==d:\n",
    "        found=1\n",
    "        c=d\n",
    "        break\n",
    "        \n",
    "if found:\n",
    "    path=\"C:\\\\Users\\\\kavin\\\\OneDrive\\\\Desktop\\\\datatata\\\\\"+c\n",
    "    dataset=pd.read_csv(path)\n",
    "    dataset['timestamp']=dataset['timestamp'].astype('string')\n",
    "    dataset[['Date','Time']] = dataset.timestamp.str.split(\" \",expand=True,)\n",
    "    if len(dataset)<200:\n",
    "        print(\"Insufficient Data\")\n",
    "    else:\n",
    "        dataset=dataset.dropna(how=\"any\",subset=['open','high','volume','close'])\n",
    "        dataset=dataset.drop_duplicates(keep='last')\n",
    "        dataset['Date']=pd.to_datetime(dataset['Date'])\n",
    "        print(\"We will predict stock price daywise\")\n",
    "        reqopen=dataset.groupby('Date')['open'].apply(list).apply(lambda x : x[0])\n",
    "        reqclose=dataset.groupby('Date')['close'].apply(list).apply(lambda x : x[-1])\n",
    "        reqhigh=dataset.groupby('Date')['high'].max()\n",
    "        reqlow=dataset.groupby('Date')['low'].min()\n",
    "        hropen=[]\n",
    "        hrclose=[]\n",
    "        hrhigh=[]\n",
    "        hrlow=[]\n",
    "        for k in range(len(reqopen)):\n",
    "            hropen.append(reqopen[k])\n",
    "            hrclose.append(reqclose[k])\n",
    "            hrhigh.append(reqhigh[k])\n",
    "            hrlow.append(reqlow[k])\n",
    "        hrdata={'open':hropen,'high':hrhigh,'low':hrlow,'close':hrclose}\n",
    "        HrData=pd.DataFrame(hrdata)\n",
    "        dataset=HrData\n",
    "else:\n",
    "    print(\"Company not Present\")"
   ]
  },
  {
   "cell_type": "code",
   "execution_count": 12,
   "metadata": {},
   "outputs": [
    {
     "data": {
      "text/html": [
       "<div>\n",
       "<style scoped>\n",
       "    .dataframe tbody tr th:only-of-type {\n",
       "        vertical-align: middle;\n",
       "    }\n",
       "\n",
       "    .dataframe tbody tr th {\n",
       "        vertical-align: top;\n",
       "    }\n",
       "\n",
       "    .dataframe thead th {\n",
       "        text-align: right;\n",
       "    }\n",
       "</style>\n",
       "<table border=\"1\" class=\"dataframe\">\n",
       "  <thead>\n",
       "    <tr style=\"text-align: right;\">\n",
       "      <th></th>\n",
       "      <th>index</th>\n",
       "      <th>open</th>\n",
       "      <th>high</th>\n",
       "      <th>low</th>\n",
       "      <th>close</th>\n",
       "    </tr>\n",
       "  </thead>\n",
       "  <tbody>\n",
       "    <tr>\n",
       "      <th>0</th>\n",
       "      <td>0</td>\n",
       "      <td>1183.50</td>\n",
       "      <td>1187.50</td>\n",
       "      <td>1176.20</td>\n",
       "      <td>1180.00</td>\n",
       "    </tr>\n",
       "    <tr>\n",
       "      <th>1</th>\n",
       "      <td>1</td>\n",
       "      <td>1180.68</td>\n",
       "      <td>1185.80</td>\n",
       "      <td>1171.65</td>\n",
       "      <td>1180.50</td>\n",
       "    </tr>\n",
       "    <tr>\n",
       "      <th>2</th>\n",
       "      <td>2</td>\n",
       "      <td>1184.85</td>\n",
       "      <td>1194.00</td>\n",
       "      <td>1179.15</td>\n",
       "      <td>1188.98</td>\n",
       "    </tr>\n",
       "    <tr>\n",
       "      <th>3</th>\n",
       "      <td>3</td>\n",
       "      <td>1190.75</td>\n",
       "      <td>1194.98</td>\n",
       "      <td>1161.30</td>\n",
       "      <td>1167.00</td>\n",
       "    </tr>\n",
       "    <tr>\n",
       "      <th>4</th>\n",
       "      <td>4</td>\n",
       "      <td>1159.85</td>\n",
       "      <td>1163.80</td>\n",
       "      <td>1128.85</td>\n",
       "      <td>1142.00</td>\n",
       "    </tr>\n",
       "    <tr>\n",
       "      <th>...</th>\n",
       "      <td>...</td>\n",
       "      <td>...</td>\n",
       "      <td>...</td>\n",
       "      <td>...</td>\n",
       "      <td>...</td>\n",
       "    </tr>\n",
       "    <tr>\n",
       "      <th>826</th>\n",
       "      <td>826</td>\n",
       "      <td>1909.00</td>\n",
       "      <td>1951.40</td>\n",
       "      <td>1909.00</td>\n",
       "      <td>1936.00</td>\n",
       "    </tr>\n",
       "    <tr>\n",
       "      <th>827</th>\n",
       "      <td>827</td>\n",
       "      <td>1933.40</td>\n",
       "      <td>1956.45</td>\n",
       "      <td>1910.25</td>\n",
       "      <td>1948.00</td>\n",
       "    </tr>\n",
       "    <tr>\n",
       "      <th>828</th>\n",
       "      <td>828</td>\n",
       "      <td>1994.00</td>\n",
       "      <td>1994.00</td>\n",
       "      <td>1926.00</td>\n",
       "      <td>1944.50</td>\n",
       "    </tr>\n",
       "    <tr>\n",
       "      <th>829</th>\n",
       "      <td>829</td>\n",
       "      <td>1910.00</td>\n",
       "      <td>1923.00</td>\n",
       "      <td>1891.10</td>\n",
       "      <td>1902.00</td>\n",
       "    </tr>\n",
       "    <tr>\n",
       "      <th>830</th>\n",
       "      <td>830</td>\n",
       "      <td>1916.00</td>\n",
       "      <td>1917.40</td>\n",
       "      <td>1865.45</td>\n",
       "      <td>1903.00</td>\n",
       "    </tr>\n",
       "  </tbody>\n",
       "</table>\n",
       "<p>831 rows × 5 columns</p>\n",
       "</div>"
      ],
      "text/plain": [
       "     index     open     high      low    close\n",
       "0        0  1183.50  1187.50  1176.20  1180.00\n",
       "1        1  1180.68  1185.80  1171.65  1180.50\n",
       "2        2  1184.85  1194.00  1179.15  1188.98\n",
       "3        3  1190.75  1194.98  1161.30  1167.00\n",
       "4        4  1159.85  1163.80  1128.85  1142.00\n",
       "..     ...      ...      ...      ...      ...\n",
       "826    826  1909.00  1951.40  1909.00  1936.00\n",
       "827    827  1933.40  1956.45  1910.25  1948.00\n",
       "828    828  1994.00  1994.00  1926.00  1944.50\n",
       "829    829  1910.00  1923.00  1891.10  1902.00\n",
       "830    830  1916.00  1917.40  1865.45  1903.00\n",
       "\n",
       "[831 rows x 5 columns]"
      ]
     },
     "execution_count": 12,
     "metadata": {},
     "output_type": "execute_result"
    }
   ],
   "source": [
    "dataset.reset_index(drop=False, inplace=True)\n",
    "dataset"
   ]
  },
  {
   "cell_type": "code",
   "execution_count": 14,
   "metadata": {},
   "outputs": [
    {
     "data": {
      "text/plain": [
       "698"
      ]
     },
     "execution_count": 14,
     "metadata": {},
     "output_type": "execute_result"
    }
   ],
   "source": [
    "#Independent Variable and Dependent Variable\n",
    "start=round((0.84)*len(dataset))\n",
    "x1 = dataset.iloc[700:,1:4].values \n",
    "y1 = dataset.iloc[700:, -1].values\n",
    "start"
   ]
  },
  {
   "cell_type": "code",
   "execution_count": 17,
   "metadata": {},
   "outputs": [],
   "source": [
    "# Splitting the dataset into the Training set and Test set \n",
    "from sklearn.model_selection import train_test_split \n",
    "x_train, x_test, y_train, y_test = train_test_split(x1, y1, test_size = 0.2, random_state = 0)\n"
   ]
  },
  {
   "cell_type": "code",
   "execution_count": 18,
   "metadata": {},
   "outputs": [
    {
     "data": {
      "text/plain": [
       "LinearRegression(copy_X=True, fit_intercept=True, n_jobs=None, normalize=False)"
      ]
     },
     "execution_count": 18,
     "metadata": {},
     "output_type": "execute_result"
    }
   ],
   "source": [
    "# # Fitting Multiple Linear Regression to the Training set on open\n",
    "from sklearn.linear_model import LinearRegression \n",
    "regressor = LinearRegression() \n",
    "regressor.fit(x_train, y_train)"
   ]
  },
  {
   "cell_type": "code",
   "execution_count": 19,
   "metadata": {},
   "outputs": [],
   "source": [
    "# Predicting the Test set results \n",
    "y_pred = regressor.predict(x_test)"
   ]
  },
  {
   "cell_type": "code",
   "execution_count": 20,
   "metadata": {},
   "outputs": [
    {
     "data": {
      "text/plain": [
       "27"
      ]
     },
     "execution_count": 20,
     "metadata": {},
     "output_type": "execute_result"
    }
   ],
   "source": [
    "k=list(y_test-y_pred)\n",
    "len(k)"
   ]
  },
  {
   "cell_type": "code",
   "execution_count": 21,
   "metadata": {},
   "outputs": [],
   "source": [
    "# accuracy metrics \n",
    "from sklearn.metrics import mean_squared_error,r2_score \n",
    "rmse = (np.sqrt(mean_squared_error(y_test, y_pred))) \n",
    "r2score = r2_score(y_test, y_pred)"
   ]
  },
  {
   "cell_type": "code",
   "execution_count": 22,
   "metadata": {
    "scrolled": true
   },
   "outputs": [
    {
     "name": "stdout",
     "output_type": "stream",
     "text": [
      "0.9362500358355776\n"
     ]
    }
   ],
   "source": [
    "\n",
    "print(r2score)"
   ]
  },
  {
   "cell_type": "code",
   "execution_count": 15,
   "metadata": {},
   "outputs": [
    {
     "data": {
      "text/plain": [
       "[<matplotlib.lines.Line2D at 0x204b9bd8ec8>]"
      ]
     },
     "execution_count": 15,
     "metadata": {},
     "output_type": "execute_result"
    },
    {
     "data": {
      "image/png": "[encoded data removed]",
      "text/plain": [
       "<Figure size 432x288 with 1 Axes>"
      ]
     },
     "metadata": {
      "needs_background": "light"
     },
     "output_type": "display_data"
    }
   ],
   "source": [
    "#plt.plot(reqopen[800:])\n",
    "plt.plot(reqclose[800:])\n",
    "#plt.plot(reqhigh[800:])\n",
    "#plt.plot(reqlow[800:])"
   ]
  },
  {
   "cell_type": "markdown",
   "metadata": {},
   "source": [
    "# for close prediction"
   ]
  },
  {
   "cell_type": "code",
   "execution_count": 11,
   "metadata": {},
   "outputs": [],
   "source": [
    "# Independent Variable and Dependent Variable \n",
    "x2 = dataset.iloc[:,1:4].values \n",
    "y2= dataset.iloc[:, 4].values"
   ]
  },
  {
   "cell_type": "code",
   "execution_count": 12,
   "metadata": {},
   "outputs": [],
   "source": [
    "# Splitting the dataset into the Training set and Test set \n",
    "x_train, x_test, y_train, y_test = train_test_split(x2, y2, test_size = 0.2, random_state = 0)"
   ]
  },
  {
   "cell_type": "code",
   "execution_count": 13,
   "metadata": {},
   "outputs": [
    {
     "data": {
      "text/plain": [
       "LinearRegression()"
      ]
     },
     "execution_count": 13,
     "metadata": {},
     "output_type": "execute_result"
    }
   ],
   "source": [
    "# # Fitting Multiple Linear Regression to the Training set on close\n",
    "from sklearn.linear_model import LinearRegression \n",
    "regressor = LinearRegression() \n",
    "regressor.fit(x_train, y_train)"
   ]
  },
  {
   "cell_type": "code",
   "execution_count": 14,
   "metadata": {},
   "outputs": [],
   "source": [
    "# Predicting the Test set results \n",
    "y_pred = regressor.predict(x_test)"
   ]
  },
  {
   "cell_type": "code",
   "execution_count": 15,
   "metadata": {},
   "outputs": [
    {
     "data": {
      "text/plain": [
       "array([-0.63493989,  0.12484297, -2.61850917, ..., -0.04392805,\n",
       "        0.28255477,  0.4020428 ])"
      ]
     },
     "execution_count": 15,
     "metadata": {},
     "output_type": "execute_result"
    }
   ],
   "source": [
    "y_test-y_pred"
   ]
  },
  {
   "cell_type": "code",
   "execution_count": 17,
   "metadata": {},
   "outputs": [],
   "source": [
    "# accuracy metrics \n",
    "from sklearn.metrics import mean_squared_error,r2_score \n",
    "rmse = (np.sqrt(mean_squared_error(y_test, y_pred))) \n",
    "r2score = r2_score(y_test, y_pred)"
   ]
  },
  {
   "cell_type": "code",
   "execution_count": 17,
   "metadata": {},
   "outputs": [
    {
     "name": "stdout",
     "output_type": "stream",
     "text": [
      "0.39194564766325785\n",
      "0.9999980282160107\n"
     ]
    }
   ],
   "source": [
    "print(rmse) \n",
    "print(r2score)"
   ]
  },
  {
   "cell_type": "code",
   "execution_count": 5,
   "metadata": {},
   "outputs": [
    {
     "name": "stdout",
     "output_type": "stream",
     "text": [
      "reliance\n"
     ]
    },
    {
     "data": {
      "text/html": [
       "<div>\n",
       "<style scoped>\n",
       "    .dataframe tbody tr th:only-of-type {\n",
       "        vertical-align: middle;\n",
       "    }\n",
       "\n",
       "    .dataframe tbody tr th {\n",
       "        vertical-align: top;\n",
       "    }\n",
       "\n",
       "    .dataframe thead th {\n",
       "        text-align: right;\n",
       "    }\n",
       "</style>\n",
       "<table border=\"1\" class=\"dataframe\">\n",
       "  <thead>\n",
       "    <tr style=\"text-align: right;\">\n",
       "      <th></th>\n",
       "      <th>timestamp</th>\n",
       "      <th>open</th>\n",
       "      <th>high</th>\n",
       "      <th>low</th>\n",
       "      <th>close</th>\n",
       "      <th>volume</th>\n",
       "      <th>Date</th>\n",
       "      <th>Time</th>\n",
       "    </tr>\n",
       "  </thead>\n",
       "  <tbody>\n",
       "    <tr>\n",
       "      <th>0</th>\n",
       "      <td>2017-01-02 09:15:00+05:30</td>\n",
       "      <td>541.63</td>\n",
       "      <td>542.95</td>\n",
       "      <td>540.70</td>\n",
       "      <td>541.00</td>\n",
       "      <td>30698.0</td>\n",
       "      <td>2017-01-02</td>\n",
       "      <td>09</td>\n",
       "    </tr>\n",
       "    <tr>\n",
       "      <th>1</th>\n",
       "      <td>2017-01-02 09:16:00+05:30</td>\n",
       "      <td>541.45</td>\n",
       "      <td>541.75</td>\n",
       "      <td>541.13</td>\n",
       "      <td>541.50</td>\n",
       "      <td>14934.0</td>\n",
       "      <td>2017-01-02</td>\n",
       "      <td>09</td>\n",
       "    </tr>\n",
       "    <tr>\n",
       "      <th>2</th>\n",
       "      <td>2017-01-02 09:17:00+05:30</td>\n",
       "      <td>541.63</td>\n",
       "      <td>541.63</td>\n",
       "      <td>537.23</td>\n",
       "      <td>537.23</td>\n",
       "      <td>52936.0</td>\n",
       "      <td>2017-01-02</td>\n",
       "      <td>09</td>\n",
       "    </tr>\n",
       "    <tr>\n",
       "      <th>3</th>\n",
       "      <td>2017-01-02 09:18:00+05:30</td>\n",
       "      <td>537.33</td>\n",
       "      <td>539.93</td>\n",
       "      <td>536.20</td>\n",
       "      <td>539.93</td>\n",
       "      <td>34696.0</td>\n",
       "      <td>2017-01-02</td>\n",
       "      <td>09</td>\n",
       "    </tr>\n",
       "    <tr>\n",
       "      <th>4</th>\n",
       "      <td>2017-01-02 09:19:00+05:30</td>\n",
       "      <td>539.95</td>\n",
       "      <td>540.18</td>\n",
       "      <td>539.40</td>\n",
       "      <td>539.85</td>\n",
       "      <td>20904.0</td>\n",
       "      <td>2017-01-02</td>\n",
       "      <td>09</td>\n",
       "    </tr>\n",
       "    <tr>\n",
       "      <th>...</th>\n",
       "      <td>...</td>\n",
       "      <td>...</td>\n",
       "      <td>...</td>\n",
       "      <td>...</td>\n",
       "      <td>...</td>\n",
       "      <td>...</td>\n",
       "      <td>...</td>\n",
       "      <td>...</td>\n",
       "    </tr>\n",
       "    <tr>\n",
       "      <th>310481</th>\n",
       "      <td>2020-05-15 15:25:00+05:30</td>\n",
       "      <td>1457.75</td>\n",
       "      <td>1457.75</td>\n",
       "      <td>1455.45</td>\n",
       "      <td>1455.90</td>\n",
       "      <td>68875.0</td>\n",
       "      <td>2020-05-15</td>\n",
       "      <td>15</td>\n",
       "    </tr>\n",
       "    <tr>\n",
       "      <th>310482</th>\n",
       "      <td>2020-05-15 15:26:00+05:30</td>\n",
       "      <td>1455.45</td>\n",
       "      <td>1455.50</td>\n",
       "      <td>1452.50</td>\n",
       "      <td>1452.50</td>\n",
       "      <td>88366.0</td>\n",
       "      <td>2020-05-15</td>\n",
       "      <td>15</td>\n",
       "    </tr>\n",
       "    <tr>\n",
       "      <th>310483</th>\n",
       "      <td>2020-05-15 15:27:00+05:30</td>\n",
       "      <td>1452.80</td>\n",
       "      <td>1454.40</td>\n",
       "      <td>1452.00</td>\n",
       "      <td>1453.70</td>\n",
       "      <td>94147.0</td>\n",
       "      <td>2020-05-15</td>\n",
       "      <td>15</td>\n",
       "    </tr>\n",
       "    <tr>\n",
       "      <th>310484</th>\n",
       "      <td>2020-05-15 15:28:00+05:30</td>\n",
       "      <td>1453.70</td>\n",
       "      <td>1453.80</td>\n",
       "      <td>1452.00</td>\n",
       "      <td>1453.00</td>\n",
       "      <td>66064.0</td>\n",
       "      <td>2020-05-15</td>\n",
       "      <td>15</td>\n",
       "    </tr>\n",
       "    <tr>\n",
       "      <th>310485</th>\n",
       "      <td>2020-05-15 15:29:00+05:30</td>\n",
       "      <td>1452.70</td>\n",
       "      <td>1453.90</td>\n",
       "      <td>1452.05</td>\n",
       "      <td>1453.40</td>\n",
       "      <td>62236.0</td>\n",
       "      <td>2020-05-15</td>\n",
       "      <td>15</td>\n",
       "    </tr>\n",
       "  </tbody>\n",
       "</table>\n",
       "<p>310348 rows × 8 columns</p>\n",
       "</div>"
      ],
      "text/plain": [
       "                        timestamp     open     high      low    close  \\\n",
       "0       2017-01-02 09:15:00+05:30   541.63   542.95   540.70   541.00   \n",
       "1       2017-01-02 09:16:00+05:30   541.45   541.75   541.13   541.50   \n",
       "2       2017-01-02 09:17:00+05:30   541.63   541.63   537.23   537.23   \n",
       "3       2017-01-02 09:18:00+05:30   537.33   539.93   536.20   539.93   \n",
       "4       2017-01-02 09:19:00+05:30   539.95   540.18   539.40   539.85   \n",
       "...                           ...      ...      ...      ...      ...   \n",
       "310481  2020-05-15 15:25:00+05:30  1457.75  1457.75  1455.45  1455.90   \n",
       "310482  2020-05-15 15:26:00+05:30  1455.45  1455.50  1452.50  1452.50   \n",
       "310483  2020-05-15 15:27:00+05:30  1452.80  1454.40  1452.00  1453.70   \n",
       "310484  2020-05-15 15:28:00+05:30  1453.70  1453.80  1452.00  1453.00   \n",
       "310485  2020-05-15 15:29:00+05:30  1452.70  1453.90  1452.05  1453.40   \n",
       "\n",
       "         volume       Date Time  \n",
       "0       30698.0 2017-01-02   09  \n",
       "1       14934.0 2017-01-02   09  \n",
       "2       52936.0 2017-01-02   09  \n",
       "3       34696.0 2017-01-02   09  \n",
       "4       20904.0 2017-01-02   09  \n",
       "...         ...        ...  ...  \n",
       "310481  68875.0 2020-05-15   15  \n",
       "310482  88366.0 2020-05-15   15  \n",
       "310483  94147.0 2020-05-15   15  \n",
       "310484  66064.0 2020-05-15   15  \n",
       "310485  62236.0 2020-05-15   15  \n",
       "\n",
       "[310348 rows x 8 columns]"
      ]
     },
     "execution_count": 5,
     "metadata": {},
     "output_type": "execute_result"
    }
   ],
   "source": [
    "import os\n",
    "datasets=os.listdir(\"F:\\PROGRAMMES\\pythn\\ML Project\\HISTORICAL_DATA\")\n",
    "data=[]\n",
    "c=input()\n",
    "c=c.upper()\n",
    "c=list(c)\n",
    "for i in range(len(c)):\n",
    "    if c[i]==' ':\n",
    "        c[i]='_'\n",
    "c=''.join(c)\n",
    "d=c+\"__EQ__INDICES__NSE__MINUTE.csv\"\n",
    "c=c+\"__EQ__NSE__NSE__MINUTE.csv\"\n",
    "found=0\n",
    "for i in datasets:\n",
    "    if i==c:\n",
    "        found=1\n",
    "        break\n",
    "    elif i==d:\n",
    "        found=1\n",
    "        c=d\n",
    "        break\n",
    "        \n",
    "if found:\n",
    "    path=\"F:\\PROGRAMMES\\pythn\\ML Project\\HISTORICAL_DATA\\\\\"+c\n",
    "    dataset=pd.read_csv(path)\n",
    "    dataset=pd.DataFrame(dataset)\n",
    "    dataset['timestamp']=dataset['timestamp'].astype('string')\n",
    "    dataset[['Date','Time']] = dataset.timestamp.str.split(\" \",expand=True,)\n",
    "    if len(dataset)<200:\n",
    "        print(\"Insufficient Data\")\n",
    "    else:\n",
    "        dataset=dataset.dropna(how=\"any\",subset=['open','high','volume','close'])\n",
    "        dataset=dataset.drop_duplicates(keep='last')\n",
    "        dataset['Date']=pd.to_datetime(dataset['Date'])\n",
    "        dataset['Time']=dataset['Time'].apply(lambda i:i[:2])\n",
    "dataset"
   ]
  },
  {
   "cell_type": "code",
   "execution_count": 6,
   "metadata": {},
   "outputs": [
    {
     "data": {
      "text/plain": [
       "0          541.63\n",
       "1          541.45\n",
       "2          541.63\n",
       "3          537.33\n",
       "4          539.95\n",
       "           ...   \n",
       "310481    1457.75\n",
       "310482    1455.45\n",
       "310483    1452.80\n",
       "310484    1453.70\n",
       "310485    1452.70\n",
       "Name: open, Length: 310348, dtype: float64"
      ]
     },
     "execution_count": 6,
     "metadata": {},
     "output_type": "execute_result"
    }
   ],
   "source": [
    "op=dataset['open']\n",
    "op"
   ]
  },
  {
   "cell_type": "code",
   "execution_count": 12,
   "metadata": {},
   "outputs": [
    {
     "data": {
      "text/plain": [
       "(array([28532., 38713., 68474., 40805., 64342., 41090., 28392.]),\n",
       " array([ 507.25      ,  665.63571429,  824.02142857,  982.40714286,\n",
       "        1140.79285714, 1299.17857143, 1457.56428571, 1615.95      ]),\n",
       " <a list of 7 Patch objects>)"
      ]
     },
     "execution_count": 12,
     "metadata": {},
     "output_type": "execute_result"
    },
    {
     "data": {
      "image/png": "[encoded data removed]",
      "text/plain": [
       "<Figure size 432x288 with 1 Axes>"
      ]
     },
     "metadata": {
      "needs_background": "light"
     },
     "output_type": "display_data"
    }
   ],
   "source": [
    "plt.hist(op,bins=7,color='green')"
   ]
  },
  {
   "cell_type": "code",
   "execution_count": 13,
   "metadata": {},
   "outputs": [
    {
     "data": {
      "text/plain": [
       "(array([28522., 38665., 68519., 40827., 64336., 41073., 28406.]),\n",
       " array([ 507.18      ,  665.58285714,  823.98571429,  982.38857143,\n",
       "        1140.79142857, 1299.19428571, 1457.59714286, 1616.        ]),\n",
       " <a list of 7 Patch objects>)"
      ]
     },
     "execution_count": 13,
     "metadata": {},
     "output_type": "execute_result"
    },
    {
     "data": {
      "image/png": "[encoded data removed]",
      "text/plain": [
       "<Figure size 432x288 with 1 Axes>"
      ]
     },
     "metadata": {
      "needs_background": "light"
     },
     "output_type": "display_data"
    }
   ],
   "source": [
    "cl=dataset['close']\n",
    "plt.hist(cl,bins=7,color='red')"
   ]
  },
  {
   "cell_type": "markdown",
   "metadata": {},
   "source": [
    "# GUI  Of Project"
   ]
  },
  {
   "cell_type": "code",
   "execution_count": 7,
   "metadata": {},
   "outputs": [
    {
     "ename": "NameError",
     "evalue": "name 'tk' is not defined",
     "output_type": "error",
     "traceback": [
      "\u001b[1;31m---------------------------------------------------------------------------\u001b[0m",
      "\u001b[1;31mNameError\u001b[0m                                 Traceback (most recent call last)",
      "\u001b[1;32m<ipython-input-7-2eb8d3290c8f>\u001b[0m in \u001b[0;36m<module>\u001b[1;34m\u001b[0m\n\u001b[0;32m    132\u001b[0m         \u001b[0mtk\u001b[0m\u001b[1;33m.\u001b[0m\u001b[0mmainloop\u001b[0m\u001b[1;33m(\u001b[0m\u001b[1;33m)\u001b[0m\u001b[1;33m\u001b[0m\u001b[1;33m\u001b[0m\u001b[0m\n\u001b[0;32m    133\u001b[0m \u001b[1;33m\u001b[0m\u001b[0m\n\u001b[1;32m--> 134\u001b[1;33m \u001b[0mwindow\u001b[0m\u001b[1;33m=\u001b[0m\u001b[0mtk\u001b[0m\u001b[1;33m.\u001b[0m\u001b[0mTk\u001b[0m\u001b[1;33m(\u001b[0m\u001b[1;33m)\u001b[0m\u001b[1;33m\u001b[0m\u001b[1;33m\u001b[0m\u001b[0m\n\u001b[0m\u001b[0;32m    135\u001b[0m \u001b[0mwindow\u001b[0m\u001b[1;33m.\u001b[0m\u001b[0mtitle\u001b[0m\u001b[1;33m(\u001b[0m\u001b[1;34m\"Stock Price Predictor\"\u001b[0m\u001b[1;33m)\u001b[0m\u001b[1;33m\u001b[0m\u001b[1;33m\u001b[0m\u001b[0m\n\u001b[0;32m    136\u001b[0m \u001b[0mx1\u001b[0m\u001b[1;33m=\u001b[0m\u001b[0mtk\u001b[0m\u001b[1;33m.\u001b[0m\u001b[0mStringVar\u001b[0m\u001b[1;33m(\u001b[0m\u001b[1;33m)\u001b[0m\u001b[1;33m\u001b[0m\u001b[1;33m\u001b[0m\u001b[0m\n",
      "\u001b[1;31mNameError\u001b[0m: name 'tk' is not defined"
     ]
    }
   ],
   "source": [
    "path=\"\" \n",
    "company=\"\" \n",
    "created_model=1 \n",
    "datasets=\"\"\n",
    "dataset=\"\"\n",
    "k=0\n",
    "\n",
    "def set_path():    \n",
    "    global path    \n",
    "    path=x1.get()    \n",
    "    print(path)\n",
    "    \n",
    "def set_company():    \n",
    "    global company    \n",
    "    company=x2.get() \n",
    "    company=company.upper()\n",
    "    print(company)\n",
    "           \n",
    "        \n",
    "def data_disp():\n",
    "    global k\n",
    "    k+=1\n",
    "    load_model(k)\n",
    "     \n",
    "        \n",
    "    \n",
    "def load_model(a):    \n",
    "    global path,company,k,datasets,dataset    \n",
    "    datasets=os.listdir(path)\n",
    "    data=[]\n",
    "    c=company\n",
    "    c=list(c)\n",
    "    for i in range(len(c)):\n",
    "        if c[i]==' ':\n",
    "            c[i]='_'\n",
    "    c=''.join(c)\n",
    "    d=c+\"__EQ__INDICES__NSE__MINUTE.csv\"\n",
    "    c=c+\"__EQ__NSE__NSE__MINUTE.csv\"\n",
    "    found=0\n",
    "    for i in datasets:\n",
    "        if i==c:\n",
    "            found=1\n",
    "            break\n",
    "        elif i==d:\n",
    "            found=1\n",
    "            c=d\n",
    "            break\n",
    "    if found:\n",
    "        k+=1\n",
    "        path=path+'\\\\'+c\n",
    "        dataset=pd.read_csv(path)\n",
    "        dataset['timestamp']=dataset['timestamp'].astype('string')\n",
    "        dataset[['Date','Time']] = dataset.timestamp.str.split(\" \",expand=True,)\n",
    "        if len(dataset)<200:\n",
    "            print(\"Insufficient Data\")\n",
    "        else:\n",
    "            dataset=dataset.dropna(how=\"any\",subset=['open','high','volume','close'])\n",
    "            dataset=dataset.drop_duplicates(keep='last')\n",
    "            dataset['Date']=pd.to_datetime(dataset['Date'])\n",
    "            print(\"We will predict stock price daywise\")\n",
    "            reqopen=dataset.groupby('Date')['open'].apply(list).apply(lambda x : x[0])\n",
    "            reqclose=dataset.groupby('Date')['close'].apply(list).apply(lambda x : x[-1])\n",
    "            reqhigh=dataset.groupby('Date')['high'].max()\n",
    "            reqlow=dataset.groupby('Date')['low'].min()\n",
    "            hropen=[]\n",
    "            hrclose=[]\n",
    "            hrhigh=[]\n",
    "            hrlow=[]\n",
    "            for k in range(len(reqopen)):\n",
    "                hropen.append(reqopen[k])\n",
    "                hrclose.append(reqclose[k])\n",
    "                hrhigh.append(reqhigh[k])\n",
    "                hrlow.append(reqlow[k])\n",
    "            hrdata={'open':hropen,'high':hrhigh,'low':hrlow,'close':hrclose}\n",
    "            HrData=pd.DataFrame(hrdata)\n",
    "            dataset=HrData\n",
    "            dataset.reset_index(drop=False, inplace=True)\n",
    "    else:\n",
    "        print(\"Company not Present\")\n",
    "    print(a,k)\n",
    "    if a!=0 and k>10:\n",
    "        class TestApp(Frame):\n",
    "            def __init__(self, parent=None):\n",
    "                self.parent = parent\n",
    "                Frame.__init__(self)\n",
    "                self.main = self.master\n",
    "                self.main.geometry('600x400+200+100')\n",
    "                self.main.title('Data displaying')\n",
    "                f = Frame(self.main)\n",
    "                f.pack(fill=BOTH,expand=1)\n",
    "                df = dataset\n",
    "                self.table = pt = Table(f, dataframe=df,showtoolbar=True, showstatusbar=True)\n",
    "                pt.show()\n",
    "                return\n",
    "\n",
    "        app = TestApp()\n",
    "        #launch the app\n",
    "        app.mainloop()\n",
    "\n",
    "    else:\n",
    "        window=tk.Tk()    \n",
    "        window.geometry('500x200')    \n",
    "        label=tk.Label(window,text=\"We do not predict this company stocks value \\n  Or \\n Write Correct spelling of the Company\",font=(\"Bold\",15)).pack() #grid(row=0,column=1)  \n",
    "        label.config(wraplength=150)    \n",
    "        tk.mainloop()    \n",
    "        \n",
    "def disp_predict():\n",
    "    global k\n",
    "    print(k)\n",
    "    if k!=0:\n",
    "        x1 = dataset.iloc[700:,1:4].values \n",
    "        y1 = dataset.iloc[700:,-1].values\n",
    "        x_train, x_test, y_train, y_test = train_test_split(x1, y1, test_size = 0.2, random_state = 0)\n",
    "        regressor = LinearRegression() \n",
    "        regressor.fit(x_train, y_train)\n",
    "        y_pred = regressor.predict(x_test)\n",
    "        rmse = (np.sqrt(mean_squared_error(y_test, y_pred))) \n",
    "        r2score = r2_score(y_test, y_pred)\n",
    "        window=tk.Tk()    \n",
    "        window.geometry('400x300')    \n",
    "        label=tk.Label(window,text=\"The rmse value is : \"+str(rmse),font=(\"Bold\",10)).pack() #grid(row=0,column=0)\n",
    "        label=tk.Label(window,text=\"The r2score value is : \"+str(r2score),font=(\"Bold\",10)).pack() #grid(row=1,column=0)    \n",
    "        label.config(wraplength=150)    \n",
    "        tk.mainloop() \n",
    "        \n",
    "    else:\n",
    "        window=tk.Tk()    \n",
    "        window.geometry('500x200')    \n",
    "        label=tk.Label(window,text=\"We do not predict this company stocks value \\n  Or \\n Write Correct spelling of the Company\",font=(\"Bold\",15))    \n",
    "        label.pack()\n",
    "        label.config(wraplength=150)    \n",
    "        tk.mainloop()       \n",
    "    \n",
    "window=tk.Tk() \n",
    "window.title(\"Stock Price Predictor\") \n",
    "x1=tk.StringVar() \n",
    "x2=tk.StringVar() \n",
    "\n",
    "ttk.Label(window,text=\"Enter the path of dataset below :\").pack() #grid(row=0,column=0) \n",
    "ttk.Entry(window,textvariable=x1).pack() #grid(row=0,column=1,columnspan=1) \n",
    "ttk.Button(window,text=\"Submit\",command=lambda:set_path()).pack() #grid(row=0,column=2,columnspan=1)\n",
    "\n",
    "ttk.Label(window,text=\"Enter the Company Name below:\").pack() #grid(row=1,column=0) \n",
    "ttk.Entry(window,textvariable=x2).pack() #grid(row=1,column=1,columnspan=1) \n",
    "ttk.Button(window,text=\"Submit\",command=lambda : set_company()).pack() #grid(row=1,column=2,columnspan=1)\n",
    "\n",
    "ttk.Button(window,text=\"Display data\",command = lambda : data_disp()).pack() #grid(row=2,column=1) \n",
    "\n",
    "ttk.Button(window,text=\"Prediction Result\",command = lambda : disp_predict()).pack() #grid(row=3,column=1) \n",
    "\n",
    "\n",
    "tk.mainloop()"
   ]
  },
  {
   "cell_type": "code",
   "execution_count": 14,
   "metadata": {},
   "outputs": [
    {
     "data": {
      "text/plain": [
       "(array([28635., 38736., 68450., 40871., 64275., 41075., 28306.]),\n",
       " array([ 507.6       ,  666.16428571,  824.72857143,  983.29285714,\n",
       "        1141.85714286, 1300.42142857, 1458.98571429, 1617.55      ]),\n",
       " <a list of 7 Patch objects>)"
      ]
     },
     "execution_count": 14,
     "metadata": {},
     "output_type": "execute_result"
    },
    {
     "data": {
      "image/png": "[encoded data removed]",
      "text/plain": [
       "<Figure size 432x288 with 1 Axes>"
      ]
     },
     "metadata": {
      "needs_background": "light"
     },
     "output_type": "display_data"
    }
   ],
   "source": [
    "hi=dataset['high']\n",
    "plt.hist(hi,bins=7,color='red')"
   ]
  },
  {
   "cell_type": "code",
   "execution_count": null,
   "metadata": {},
   "outputs": [],
   "source": []
  }
 ],
 "metadata": {
  "kernelspec": {
   "display_name": "Python 3",
   "language": "python",
   "name": "python3"
  },
  "language_info": {
   "codemirror_mode": {
    "name": "ipython",
    "version": 3
   },
   "file_extension": ".py",
   "mimetype": "text/x-python",
   "name": "python",
   "nbconvert_exporter": "python",
   "pygments_lexer": "ipython3",
   "version": "3.8.1"
  }
 },
 "nbformat": 4,
 "nbformat_minor": 4
}
